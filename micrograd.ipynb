{
  "nbformat": 4,
  "nbformat_minor": 0,
  "metadata": {
    "colab": {
      "provenance": [],
      "authorship_tag": "ABX9TyMa/mkunjLZTA0lS68wugfU",
      "include_colab_link": true
    },
    "kernelspec": {
      "name": "python3",
      "display_name": "Python 3"
    },
    "language_info": {
      "name": "python"
    }
  },
  "cells": [
    {
      "cell_type": "markdown",
      "metadata": {
        "id": "view-in-github",
        "colab_type": "text"
      },
      "source": [
        "<a href=\"https://colab.research.google.com/github/PabloViniciusSS/micrograd/blob/main/micrograd.ipynb\" target=\"_parent\"><img src=\"https://colab.research.google.com/assets/colab-badge.svg\" alt=\"Open In Colab\"/></a>"
      ]
    },
    {
      "cell_type": "code",
      "execution_count": 1,
      "metadata": {
        "id": "1iLViQb5LjEg"
      },
      "outputs": [],
      "source": [
        "import math\n",
        "import numpy as np\n",
        "import matplotlib.pyplot as plt\n",
        "%matplotlib inline"
      ]
    },
    {
      "cell_type": "code",
      "source": [
        "class Value:\n",
        "\n",
        "  def __init__(self, data, _children=(), _op=\"\", label=\"\"):\n",
        "    self.data = data\n",
        "    self.grad = 0.0\n",
        "    self._backward = lambda:None\n",
        "    self._prev = set(_children)\n",
        "    self._op = _op\n",
        "    self.label = label\n",
        "\n",
        "  def __repr__(self):\n",
        "    return f'Value(data={self.data})'\n",
        "\n",
        "  def __add__(self, other):\n",
        "    other = other if isinstance(other, Value) else Value(other) #Para poder instância um valor sem o adicionar a classe Value\n",
        "    out = Value(self.data + other.data, (self, other), '+')\n",
        "\n",
        "    def _backward():\n",
        "      self.grad += 1.0 * out.grad\n",
        "      other.grad += 1.0 * out.grad\n",
        "    out._backward = _backward\n",
        "\n",
        "    return out\n",
        "\n",
        "  def __mul__(self, other):\n",
        "    other = other if isinstance(other, Value) else Value(other) #Para poder instância um valor sem o adicionar a classe Value\n",
        "    out = Value(self.data * other.data, (self, other), '*')\n",
        "\n",
        "    def _backward():\n",
        "      self.grad += other.data * out.grad\n",
        "      other.grad += self.data * out.grad\n",
        "    out._backward = _backward\n",
        "    return out\n",
        "\n",
        "  def __pow__(self, other):\n",
        "    assert isinstance(other, (int, float))\n",
        "    out = Value(self.data**other, (self, ), f'**{other}')\n",
        "\n",
        "    def _backward():\n",
        "      self.grad += other * (self.data ** (other - 1)) * out.grad\n",
        "    out._backward = _backward\n",
        "\n",
        "  def __rmul__(self, other): #other * self. Python não identifica se multiplicar um valor à direita e um valor da classe Value, apra resolver isso utilizamos o código abaixo\n",
        "    return self * other\n",
        "\n",
        "  def __truediv__(self, other):\n",
        "    return self * other ** -1\n",
        "\n",
        "  def __neg__(self):\n",
        "    return self * -1\n",
        "\n",
        "  def __sub__(self, other):\n",
        "    return self + (-other)\n",
        "\n",
        "  def tanh(self):\n",
        "    x = self.data\n",
        "    t = (math.exp(2*x) - 1) / (math.exp(2*x) + 1)\n",
        "    out = Value(t, (self, ), 'tanh')\n",
        "\n",
        "    def _backward():\n",
        "      self.grad += (1 - t**2) * out.grad\n",
        "    out._backward = _backward\n",
        "    return out\n",
        "\n",
        "  def exp(self):\n",
        "    x = self.data\n",
        "    out = Value(math.exp(x), (self, ), 'exp')\n",
        "\n",
        "    def _backward():\n",
        "      self.grad = out.data * out.grad\n",
        "    out._backward = _backward\n",
        "\n",
        "    return out\n",
        "\n",
        "\n",
        "  def backward(self):\n",
        "\n",
        "    topo = []\n",
        "    visited = set()\n",
        "    def build_topo(v):\n",
        "      if v not in visited:\n",
        "          visited.add(v)\n",
        "          for child in v._prev:\n",
        "            build_topo(child)\n",
        "          topo.append(v)\n",
        "    build_topo(self)\n",
        "\n",
        "    self.grad = 1.0\n",
        "    for node in reversed(topo):\n",
        "      node._backward()"
      ],
      "metadata": {
        "id": "k6D1-o-eCk-q"
      },
      "execution_count": 11,
      "outputs": []
    },
    {
      "cell_type": "code",
      "source": [
        "a = Value(2.0, label=\"a\")\n",
        "b = Value(-3.0, label=\"b\")\n",
        "c = Value(10.0, label=\"c\")\n",
        "e = a*b; e.label=\"e\"\n",
        "d = e+c; d.label=\"d\"\n",
        "f = Value(-2.0, label=\"f\")\n",
        "L = d * f; L.label=\"L\"\n",
        "L"
      ],
      "metadata": {
        "colab": {
          "base_uri": "https://localhost:8080/"
        },
        "id": "QUtbxiYQOcru",
        "outputId": "432248dd-23cc-4745-fd6d-24bd5745aaee"
      },
      "execution_count": null,
      "outputs": [
        {
          "output_type": "execute_result",
          "data": {
            "text/plain": [
              "Value(data=-8.0)"
            ]
          },
          "metadata": {},
          "execution_count": 3
        }
      ]
    },
    {
      "cell_type": "code",
      "source": [
        "from graphviz import Digraph\n",
        "\n",
        "def trace(root):\n",
        "\n",
        "  nodes, edges = set(), set()\n",
        "  def build(v):\n",
        "    if v not in nodes:\n",
        "      nodes.add(v)\n",
        "      for child in v._prev:\n",
        "        edges.add((child,v))\n",
        "        build(child)\n",
        "  build(root)\n",
        "  return nodes, edges\n",
        "\n",
        "def draw_dot(root):\n",
        "    dot = Digraph(format='svg', graph_attr={'randir':'LR'})\n",
        "\n",
        "    nodes, edges = trace(root)\n",
        "    for n in nodes:\n",
        "      uid = str(id(n))\n",
        "      dot.node(name = uid, label = \"{%s | data %.4f | grad %.4f }\" % (n.label, n.data, n.grad), shape='record')\n",
        "\n",
        "      if n._op:\n",
        "\n",
        "        dot.node(name = uid + n._op, label = n._op)\n",
        "\n",
        "        dot.edge(uid + n._op, uid)\n",
        "\n",
        "    for n1, n2 in edges:\n",
        "\n",
        "      dot.edge(str(id(n1)), str(id(n2)) + n2._op)\n",
        "\n",
        "    return dot\n"
      ],
      "metadata": {
        "id": "H8lYF_-gOgiz"
      },
      "execution_count": 4,
      "outputs": []
    },
    {
      "cell_type": "code",
      "source": [
        "draw_dot(L)"
      ],
      "metadata": {
        "id": "DFAz_aJUO6Dc",
        "colab": {
          "base_uri": "https://localhost:8080/",
          "height": 837
        },
        "outputId": "d4375666-8518-49b6-a890-1a90d34e69e2"
      },
      "execution_count": null,
      "outputs": [
        {
          "output_type": "execute_result",
          "data": {
            "image/svg+xml": "<?xml version=\"1.0\" encoding=\"UTF-8\" standalone=\"no\"?>\n<!DOCTYPE svg PUBLIC \"-//W3C//DTD SVG 1.1//EN\"\n \"http://www.w3.org/Graphics/SVG/1.1/DTD/svg11.dtd\">\n<!-- Generated by graphviz version 2.43.0 (0)\n -->\n<!-- Title: %3 Pages: 1 -->\n<svg width=\"248pt\" height=\"612pt\"\n viewBox=\"0.00 0.00 248.00 612.00\" xmlns=\"http://www.w3.org/2000/svg\" xmlns:xlink=\"http://www.w3.org/1999/xlink\">\n<g id=\"graph0\" class=\"graph\" transform=\"scale(1 1) rotate(0) translate(4 608)\">\n<title>%3</title>\n<polygon fill=\"white\" stroke=\"transparent\" points=\"-4,4 -4,-608 244,-608 244,4 -4,4\"/>\n<!-- 136383227704320 -->\n<g id=\"node1\" class=\"node\">\n<title>136383227704320</title>\n<polygon fill=\"none\" stroke=\"black\" points=\"0,-356.5 0,-425.5 87,-425.5 87,-356.5 0,-356.5\"/>\n<text text-anchor=\"middle\" x=\"43.5\" y=\"-410.3\" font-family=\"Times,serif\" font-size=\"14.00\">c</text>\n<polyline fill=\"none\" stroke=\"black\" points=\"0,-402.5 87,-402.5 \"/>\n<text text-anchor=\"middle\" x=\"43.5\" y=\"-387.3\" font-family=\"Times,serif\" font-size=\"14.00\">data 10.0000</text>\n<polyline fill=\"none\" stroke=\"black\" points=\"0,-379.5 87,-379.5 \"/>\n<text text-anchor=\"middle\" x=\"43.5\" y=\"-364.3\" font-family=\"Times,serif\" font-size=\"14.00\">grad 0.0000</text>\n</g>\n<!-- 136383227700336+ -->\n<g id=\"node4\" class=\"node\">\n<title>136383227700336+</title>\n<ellipse fill=\"none\" stroke=\"black\" cx=\"95.5\" cy=\"-302\" rx=\"27\" ry=\"18\"/>\n<text text-anchor=\"middle\" x=\"95.5\" y=\"-298.3\" font-family=\"Times,serif\" font-size=\"14.00\">+</text>\n</g>\n<!-- 136383227704320&#45;&gt;136383227700336+ -->\n<g id=\"edge8\" class=\"edge\">\n<title>136383227704320&#45;&gt;136383227700336+</title>\n<path fill=\"none\" stroke=\"black\" d=\"M63.75,-356.11C69.43,-346.62 75.48,-336.49 80.77,-327.65\"/>\n<polygon fill=\"black\" stroke=\"black\" points=\"83.82,-329.36 85.95,-318.98 77.81,-325.77 83.82,-329.36\"/>\n</g>\n<!-- 136383227699808 -->\n<g id=\"node2\" class=\"node\">\n<title>136383227699808</title>\n<polygon fill=\"none\" stroke=\"black\" points=\"54,-534.5 54,-603.5 139,-603.5 139,-534.5 54,-534.5\"/>\n<text text-anchor=\"middle\" x=\"96.5\" y=\"-588.3\" font-family=\"Times,serif\" font-size=\"14.00\">b</text>\n<polyline fill=\"none\" stroke=\"black\" points=\"54,-580.5 139,-580.5 \"/>\n<text text-anchor=\"middle\" x=\"96.5\" y=\"-565.3\" font-family=\"Times,serif\" font-size=\"14.00\">data &#45;3.0000</text>\n<polyline fill=\"none\" stroke=\"black\" points=\"54,-557.5 139,-557.5 \"/>\n<text text-anchor=\"middle\" x=\"96.5\" y=\"-542.3\" font-family=\"Times,serif\" font-size=\"14.00\">grad 0.0000</text>\n</g>\n<!-- 136383227702160* -->\n<g id=\"node10\" class=\"node\">\n<title>136383227702160*</title>\n<ellipse fill=\"none\" stroke=\"black\" cx=\"147.5\" cy=\"-480\" rx=\"27\" ry=\"18\"/>\n<text text-anchor=\"middle\" x=\"147.5\" y=\"-476.3\" font-family=\"Times,serif\" font-size=\"14.00\">*</text>\n</g>\n<!-- 136383227699808&#45;&gt;136383227702160* -->\n<g id=\"edge7\" class=\"edge\">\n<title>136383227699808&#45;&gt;136383227702160*</title>\n<path fill=\"none\" stroke=\"black\" d=\"M116.36,-534.11C121.93,-524.62 127.87,-514.49 133.05,-505.65\"/>\n<polygon fill=\"black\" stroke=\"black\" points=\"136.1,-507.38 138.13,-496.98 130.06,-503.84 136.1,-507.38\"/>\n</g>\n<!-- 136383227700336 -->\n<g id=\"node3\" class=\"node\">\n<title>136383227700336</title>\n<polygon fill=\"none\" stroke=\"black\" points=\"54.5,-178.5 54.5,-247.5 136.5,-247.5 136.5,-178.5 54.5,-178.5\"/>\n<text text-anchor=\"middle\" x=\"95.5\" y=\"-232.3\" font-family=\"Times,serif\" font-size=\"14.00\">d</text>\n<polyline fill=\"none\" stroke=\"black\" points=\"54.5,-224.5 136.5,-224.5 \"/>\n<text text-anchor=\"middle\" x=\"95.5\" y=\"-209.3\" font-family=\"Times,serif\" font-size=\"14.00\">data 4.0000</text>\n<polyline fill=\"none\" stroke=\"black\" points=\"54.5,-201.5 136.5,-201.5 \"/>\n<text text-anchor=\"middle\" x=\"95.5\" y=\"-186.3\" font-family=\"Times,serif\" font-size=\"14.00\">grad 0.0000</text>\n</g>\n<!-- 136383227696976* -->\n<g id=\"node8\" class=\"node\">\n<title>136383227696976*</title>\n<ellipse fill=\"none\" stroke=\"black\" cx=\"146.5\" cy=\"-124\" rx=\"27\" ry=\"18\"/>\n<text text-anchor=\"middle\" x=\"146.5\" y=\"-120.3\" font-family=\"Times,serif\" font-size=\"14.00\">*</text>\n</g>\n<!-- 136383227700336&#45;&gt;136383227696976* -->\n<g id=\"edge9\" class=\"edge\">\n<title>136383227700336&#45;&gt;136383227696976*</title>\n<path fill=\"none\" stroke=\"black\" d=\"M115.36,-178.11C120.93,-168.62 126.87,-158.49 132.05,-149.65\"/>\n<polygon fill=\"black\" stroke=\"black\" points=\"135.1,-151.38 137.13,-140.98 129.06,-147.84 135.1,-151.38\"/>\n</g>\n<!-- 136383227700336+&#45;&gt;136383227700336 -->\n<g id=\"edge1\" class=\"edge\">\n<title>136383227700336+&#45;&gt;136383227700336</title>\n<path fill=\"none\" stroke=\"black\" d=\"M95.5,-283.81C95.5,-276.33 95.5,-267.18 95.5,-258\"/>\n<polygon fill=\"black\" stroke=\"black\" points=\"99,-257.71 95.5,-247.71 92,-257.71 99,-257.71\"/>\n</g>\n<!-- 136383227704944 -->\n<g id=\"node5\" class=\"node\">\n<title>136383227704944</title>\n<polygon fill=\"none\" stroke=\"black\" points=\"157.5,-534.5 157.5,-603.5 239.5,-603.5 239.5,-534.5 157.5,-534.5\"/>\n<text text-anchor=\"middle\" x=\"198.5\" y=\"-588.3\" font-family=\"Times,serif\" font-size=\"14.00\">a</text>\n<polyline fill=\"none\" stroke=\"black\" points=\"157.5,-580.5 239.5,-580.5 \"/>\n<text text-anchor=\"middle\" x=\"198.5\" y=\"-565.3\" font-family=\"Times,serif\" font-size=\"14.00\">data 2.0000</text>\n<polyline fill=\"none\" stroke=\"black\" points=\"157.5,-557.5 239.5,-557.5 \"/>\n<text text-anchor=\"middle\" x=\"198.5\" y=\"-542.3\" font-family=\"Times,serif\" font-size=\"14.00\">grad 0.0000</text>\n</g>\n<!-- 136383227704944&#45;&gt;136383227702160* -->\n<g id=\"edge6\" class=\"edge\">\n<title>136383227704944&#45;&gt;136383227702160*</title>\n<path fill=\"none\" stroke=\"black\" d=\"M178.64,-534.11C173.07,-524.62 167.13,-514.49 161.95,-505.65\"/>\n<polygon fill=\"black\" stroke=\"black\" points=\"164.94,-503.84 156.87,-496.98 158.9,-507.38 164.94,-503.84\"/>\n</g>\n<!-- 136383227700528 -->\n<g id=\"node6\" class=\"node\">\n<title>136383227700528</title>\n<polygon fill=\"none\" stroke=\"black\" points=\"155,-178.5 155,-247.5 240,-247.5 240,-178.5 155,-178.5\"/>\n<text text-anchor=\"middle\" x=\"197.5\" y=\"-232.3\" font-family=\"Times,serif\" font-size=\"14.00\">f</text>\n<polyline fill=\"none\" stroke=\"black\" points=\"155,-224.5 240,-224.5 \"/>\n<text text-anchor=\"middle\" x=\"197.5\" y=\"-209.3\" font-family=\"Times,serif\" font-size=\"14.00\">data &#45;2.0000</text>\n<polyline fill=\"none\" stroke=\"black\" points=\"155,-201.5 240,-201.5 \"/>\n<text text-anchor=\"middle\" x=\"197.5\" y=\"-186.3\" font-family=\"Times,serif\" font-size=\"14.00\">grad 0.0000</text>\n</g>\n<!-- 136383227700528&#45;&gt;136383227696976* -->\n<g id=\"edge5\" class=\"edge\">\n<title>136383227700528&#45;&gt;136383227696976*</title>\n<path fill=\"none\" stroke=\"black\" d=\"M177.64,-178.11C172.07,-168.62 166.13,-158.49 160.95,-149.65\"/>\n<polygon fill=\"black\" stroke=\"black\" points=\"163.94,-147.84 155.87,-140.98 157.9,-151.38 163.94,-147.84\"/>\n</g>\n<!-- 136383227696976 -->\n<g id=\"node7\" class=\"node\">\n<title>136383227696976</title>\n<polygon fill=\"none\" stroke=\"black\" points=\"104,-0.5 104,-69.5 189,-69.5 189,-0.5 104,-0.5\"/>\n<text text-anchor=\"middle\" x=\"146.5\" y=\"-54.3\" font-family=\"Times,serif\" font-size=\"14.00\">L</text>\n<polyline fill=\"none\" stroke=\"black\" points=\"104,-46.5 189,-46.5 \"/>\n<text text-anchor=\"middle\" x=\"146.5\" y=\"-31.3\" font-family=\"Times,serif\" font-size=\"14.00\">data &#45;8.0000</text>\n<polyline fill=\"none\" stroke=\"black\" points=\"104,-23.5 189,-23.5 \"/>\n<text text-anchor=\"middle\" x=\"146.5\" y=\"-8.3\" font-family=\"Times,serif\" font-size=\"14.00\">grad 0.0000</text>\n</g>\n<!-- 136383227696976*&#45;&gt;136383227696976 -->\n<g id=\"edge2\" class=\"edge\">\n<title>136383227696976*&#45;&gt;136383227696976</title>\n<path fill=\"none\" stroke=\"black\" d=\"M146.5,-105.81C146.5,-98.33 146.5,-89.18 146.5,-80\"/>\n<polygon fill=\"black\" stroke=\"black\" points=\"150,-79.71 146.5,-69.71 143,-79.71 150,-79.71\"/>\n</g>\n<!-- 136383227702160 -->\n<g id=\"node9\" class=\"node\">\n<title>136383227702160</title>\n<polygon fill=\"none\" stroke=\"black\" points=\"105,-356.5 105,-425.5 190,-425.5 190,-356.5 105,-356.5\"/>\n<text text-anchor=\"middle\" x=\"147.5\" y=\"-410.3\" font-family=\"Times,serif\" font-size=\"14.00\">e</text>\n<polyline fill=\"none\" stroke=\"black\" points=\"105,-402.5 190,-402.5 \"/>\n<text text-anchor=\"middle\" x=\"147.5\" y=\"-387.3\" font-family=\"Times,serif\" font-size=\"14.00\">data &#45;6.0000</text>\n<polyline fill=\"none\" stroke=\"black\" points=\"105,-379.5 190,-379.5 \"/>\n<text text-anchor=\"middle\" x=\"147.5\" y=\"-364.3\" font-family=\"Times,serif\" font-size=\"14.00\">grad 0.0000</text>\n</g>\n<!-- 136383227702160&#45;&gt;136383227700336+ -->\n<g id=\"edge4\" class=\"edge\">\n<title>136383227702160&#45;&gt;136383227700336+</title>\n<path fill=\"none\" stroke=\"black\" d=\"M127.25,-356.11C121.57,-346.62 115.52,-336.49 110.23,-327.65\"/>\n<polygon fill=\"black\" stroke=\"black\" points=\"113.19,-325.77 105.05,-318.98 107.18,-329.36 113.19,-325.77\"/>\n</g>\n<!-- 136383227702160*&#45;&gt;136383227702160 -->\n<g id=\"edge3\" class=\"edge\">\n<title>136383227702160*&#45;&gt;136383227702160</title>\n<path fill=\"none\" stroke=\"black\" d=\"M147.5,-461.81C147.5,-454.33 147.5,-445.18 147.5,-436\"/>\n<polygon fill=\"black\" stroke=\"black\" points=\"151,-435.71 147.5,-425.71 144,-435.71 151,-435.71\"/>\n</g>\n</g>\n</svg>\n",
            "text/plain": [
              "<graphviz.graphs.Digraph at 0x7c0a31d726e0>"
            ]
          },
          "metadata": {},
          "execution_count": 5
        }
      ]
    },
    {
      "cell_type": "code",
      "source": [
        "a.grad= 6\n",
        "b.grad=-4\n",
        "c.grad=-2\n",
        "e.grad=-2\n",
        "d.grad=-2\n",
        "f.grad=4\n"
      ],
      "metadata": {
        "id": "LY-0rJwDvEEW"
      },
      "execution_count": null,
      "outputs": []
    },
    {
      "cell_type": "code",
      "source": [
        "a.data += 0.01 * a.grad\n",
        "b.data += 0.01 * b.grad\n",
        "c.data += 0.01 * c.grad\n",
        "f.data += 0.01 * f.grad\n",
        "\n",
        "e = a * b\n",
        "d = e + c\n",
        "L = d * f\n",
        "print(L.data)"
      ],
      "metadata": {
        "colab": {
          "base_uri": "https://localhost:8080/"
        },
        "id": "8vKsGLVKXH38",
        "outputId": "cf29a798-af20-43d5-bdbf-6b01a913880f"
      },
      "execution_count": null,
      "outputs": [
        {
          "output_type": "stream",
          "name": "stdout",
          "text": [
            "-7.286496\n"
          ]
        }
      ]
    },
    {
      "cell_type": "code",
      "source": [
        "def lol():\n",
        "\n",
        "  h = 0.001\n",
        "\n",
        "  a = Value(2.0, label='a')\n",
        "  b = Value(-3.0, label='b')\n",
        "  c = Value(10.0, label='c')\n",
        "  e = a * b; e.label='e'\n",
        "  d = e + c; d.label='d'\n",
        "  f = Value(-2.0, label='f')\n",
        "  L = d * f; L.label = 'L'\n",
        "  L1 = L.data\n",
        "\n",
        "\n",
        "  a = Value(2.0, label='a')\n",
        "  b = Value(-3.0, label='b')\n",
        "  c = Value(10.0, label='c')\n",
        "  e = a * b; e.label='e'\n",
        "  d = e + c; d.label='d'\n",
        "  f = Value(-2.0, label='f')\n",
        "  L = d * f; L.label = 'L'\n",
        "  L2 = L.data + h\n",
        "\n",
        "  print((L2-L1)/h) #Calculo da derivada de L\n",
        "lol()"
      ],
      "metadata": {
        "colab": {
          "base_uri": "https://localhost:8080/"
        },
        "id": "j2Nny5TMfDMN",
        "outputId": "44a40415-5664-42df-bb29-62c50d3282f8"
      },
      "execution_count": null,
      "outputs": [
        {
          "output_type": "stream",
          "name": "stdout",
          "text": [
            "1.000000000000334\n"
          ]
        }
      ]
    },
    {
      "cell_type": "code",
      "source": [
        "L.grad = 1.0"
      ],
      "metadata": {
        "id": "z_S1lnNLfKn_"
      },
      "execution_count": null,
      "outputs": []
    },
    {
      "cell_type": "code",
      "source": [
        "#inputs x1, x2\n",
        "x1 = Value(2.0, label='x1')\n",
        "x2 = Value(0.0, label='x2')\n",
        "#pesos w1, w2\n",
        "w1 = Value(-3.0, label='w1')\n",
        "w2 = Value(1.0, label='w2')\n",
        "#vies dos neuronios\n",
        "b = Value(6.8813735870195432, label='b')\n",
        "#x1w1 + x2w2 + b\n",
        "x1w1 = x1*w1; x1w1.label = 'x1w1'\n",
        "x2w2 = x2*w2; x2w2.label = 'x2w2'\n",
        "x1w1x2w2 = x1w1 + x2w2; x1w1x2w2.label='x1w1x2w2'\n",
        "n = x1w1x2w2 + b; n.label = 'n'\n",
        "o = n.tanh(); o.label = 'o'\n",
        "\n",
        "draw_dot(o)"
      ],
      "metadata": {
        "id": "UqGm9y6lfNro",
        "colab": {
          "base_uri": "https://localhost:8080/",
          "height": 1000
        },
        "outputId": "c6aef651-d609-492b-b5f0-97d7b7a821bc"
      },
      "execution_count": null,
      "outputs": [
        {
          "output_type": "execute_result",
          "data": {
            "image/svg+xml": "<?xml version=\"1.0\" encoding=\"UTF-8\" standalone=\"no\"?>\n<!DOCTYPE svg PUBLIC \"-//W3C//DTD SVG 1.1//EN\"\n \"http://www.w3.org/Graphics/SVG/1.1/DTD/svg11.dtd\">\n<!-- Generated by graphviz version 2.43.0 (0)\n -->\n<!-- Title: %3 Pages: 1 -->\n<svg width=\"394pt\" height=\"790pt\"\n viewBox=\"0.00 0.00 394.00 790.00\" xmlns=\"http://www.w3.org/2000/svg\" xmlns:xlink=\"http://www.w3.org/1999/xlink\">\n<g id=\"graph0\" class=\"graph\" transform=\"scale(1 1) rotate(0) translate(4 786)\">\n<title>%3</title>\n<polygon fill=\"white\" stroke=\"transparent\" points=\"-4,4 -4,-786 390,-786 390,4 -4,4\"/>\n<!-- 136383227706480 -->\n<g id=\"node1\" class=\"node\">\n<title>136383227706480</title>\n<polygon fill=\"none\" stroke=\"black\" points=\"0,-712.5 0,-781.5 82,-781.5 82,-712.5 0,-712.5\"/>\n<text text-anchor=\"middle\" x=\"41\" y=\"-766.3\" font-family=\"Times,serif\" font-size=\"14.00\">x2</text>\n<polyline fill=\"none\" stroke=\"black\" points=\"0,-758.5 82,-758.5 \"/>\n<text text-anchor=\"middle\" x=\"41\" y=\"-743.3\" font-family=\"Times,serif\" font-size=\"14.00\">data 0.0000</text>\n<polyline fill=\"none\" stroke=\"black\" points=\"0,-735.5 82,-735.5 \"/>\n<text text-anchor=\"middle\" x=\"41\" y=\"-720.3\" font-family=\"Times,serif\" font-size=\"14.00\">grad 0.0000</text>\n</g>\n<!-- 136383227704704* -->\n<g id=\"node12\" class=\"node\">\n<title>136383227704704*</title>\n<ellipse fill=\"none\" stroke=\"black\" cx=\"141\" cy=\"-658\" rx=\"27\" ry=\"18\"/>\n<text text-anchor=\"middle\" x=\"141\" y=\"-654.3\" font-family=\"Times,serif\" font-size=\"14.00\">*</text>\n</g>\n<!-- 136383227706480&#45;&gt;136383227704704* -->\n<g id=\"edge14\" class=\"edge\">\n<title>136383227706480&#45;&gt;136383227704704*</title>\n<path fill=\"none\" stroke=\"black\" d=\"M79.66,-712.36C92.4,-701.28 106.17,-689.3 117.44,-679.5\"/>\n<polygon fill=\"black\" stroke=\"black\" points=\"119.89,-682 125.14,-672.8 115.3,-676.72 119.89,-682\"/>\n</g>\n<!-- 136383227705472 -->\n<g id=\"node2\" class=\"node\">\n<title>136383227705472</title>\n<polygon fill=\"none\" stroke=\"black\" points=\"200.5,-534.5 200.5,-603.5 285.5,-603.5 285.5,-534.5 200.5,-534.5\"/>\n<text text-anchor=\"middle\" x=\"243\" y=\"-588.3\" font-family=\"Times,serif\" font-size=\"14.00\">x1w1</text>\n<polyline fill=\"none\" stroke=\"black\" points=\"200.5,-580.5 285.5,-580.5 \"/>\n<text text-anchor=\"middle\" x=\"243\" y=\"-565.3\" font-family=\"Times,serif\" font-size=\"14.00\">data &#45;6.0000</text>\n<polyline fill=\"none\" stroke=\"black\" points=\"200.5,-557.5 285.5,-557.5 \"/>\n<text text-anchor=\"middle\" x=\"243\" y=\"-542.3\" font-family=\"Times,serif\" font-size=\"14.00\">grad 0.0000</text>\n</g>\n<!-- 136383227695488+ -->\n<g id=\"node14\" class=\"node\">\n<title>136383227695488+</title>\n<ellipse fill=\"none\" stroke=\"black\" cx=\"192\" cy=\"-480\" rx=\"27\" ry=\"18\"/>\n<text text-anchor=\"middle\" x=\"192\" y=\"-476.3\" font-family=\"Times,serif\" font-size=\"14.00\">+</text>\n</g>\n<!-- 136383227705472&#45;&gt;136383227695488+ -->\n<g id=\"edge7\" class=\"edge\">\n<title>136383227705472&#45;&gt;136383227695488+</title>\n<path fill=\"none\" stroke=\"black\" d=\"M223.14,-534.11C217.57,-524.62 211.63,-514.49 206.45,-505.65\"/>\n<polygon fill=\"black\" stroke=\"black\" points=\"209.44,-503.84 201.37,-496.98 203.4,-507.38 209.44,-503.84\"/>\n</g>\n<!-- 136383227705472* -->\n<g id=\"node3\" class=\"node\">\n<title>136383227705472*</title>\n<ellipse fill=\"none\" stroke=\"black\" cx=\"243\" cy=\"-658\" rx=\"27\" ry=\"18\"/>\n<text text-anchor=\"middle\" x=\"243\" y=\"-654.3\" font-family=\"Times,serif\" font-size=\"14.00\">*</text>\n</g>\n<!-- 136383227705472*&#45;&gt;136383227705472 -->\n<g id=\"edge1\" class=\"edge\">\n<title>136383227705472*&#45;&gt;136383227705472</title>\n<path fill=\"none\" stroke=\"black\" d=\"M243,-639.81C243,-632.33 243,-623.18 243,-614\"/>\n<polygon fill=\"black\" stroke=\"black\" points=\"246.5,-613.71 243,-603.71 239.5,-613.71 246.5,-613.71\"/>\n</g>\n<!-- 136383227693184 -->\n<g id=\"node4\" class=\"node\">\n<title>136383227693184</title>\n<polygon fill=\"none\" stroke=\"black\" points=\"100,-712.5 100,-781.5 182,-781.5 182,-712.5 100,-712.5\"/>\n<text text-anchor=\"middle\" x=\"141\" y=\"-766.3\" font-family=\"Times,serif\" font-size=\"14.00\">w2</text>\n<polyline fill=\"none\" stroke=\"black\" points=\"100,-758.5 182,-758.5 \"/>\n<text text-anchor=\"middle\" x=\"141\" y=\"-743.3\" font-family=\"Times,serif\" font-size=\"14.00\">data 1.0000</text>\n<polyline fill=\"none\" stroke=\"black\" points=\"100,-735.5 182,-735.5 \"/>\n<text text-anchor=\"middle\" x=\"141\" y=\"-720.3\" font-family=\"Times,serif\" font-size=\"14.00\">grad 0.0000</text>\n</g>\n<!-- 136383227693184&#45;&gt;136383227704704* -->\n<g id=\"edge6\" class=\"edge\">\n<title>136383227693184&#45;&gt;136383227704704*</title>\n<path fill=\"none\" stroke=\"black\" d=\"M141,-712.11C141,-703.62 141,-694.61 141,-686.48\"/>\n<polygon fill=\"black\" stroke=\"black\" points=\"144.5,-686.4 141,-676.4 137.5,-686.4 144.5,-686.4\"/>\n</g>\n<!-- 136383227695776 -->\n<g id=\"node5\" class=\"node\">\n<title>136383227695776</title>\n<polygon fill=\"none\" stroke=\"black\" points=\"202,-0.5 202,-69.5 284,-69.5 284,-0.5 202,-0.5\"/>\n<text text-anchor=\"middle\" x=\"243\" y=\"-54.3\" font-family=\"Times,serif\" font-size=\"14.00\">o</text>\n<polyline fill=\"none\" stroke=\"black\" points=\"202,-46.5 284,-46.5 \"/>\n<text text-anchor=\"middle\" x=\"243\" y=\"-31.3\" font-family=\"Times,serif\" font-size=\"14.00\">data 0.7071</text>\n<polyline fill=\"none\" stroke=\"black\" points=\"202,-23.5 284,-23.5 \"/>\n<text text-anchor=\"middle\" x=\"243\" y=\"-8.3\" font-family=\"Times,serif\" font-size=\"14.00\">grad 0.0000</text>\n</g>\n<!-- 136383227695776tanh -->\n<g id=\"node6\" class=\"node\">\n<title>136383227695776tanh</title>\n<ellipse fill=\"none\" stroke=\"black\" cx=\"243\" cy=\"-124\" rx=\"27\" ry=\"18\"/>\n<text text-anchor=\"middle\" x=\"243\" y=\"-120.3\" font-family=\"Times,serif\" font-size=\"14.00\">tanh</text>\n</g>\n<!-- 136383227695776tanh&#45;&gt;136383227695776 -->\n<g id=\"edge2\" class=\"edge\">\n<title>136383227695776tanh&#45;&gt;136383227695776</title>\n<path fill=\"none\" stroke=\"black\" d=\"M243,-105.81C243,-98.33 243,-89.18 243,-80\"/>\n<polygon fill=\"black\" stroke=\"black\" points=\"246.5,-79.71 243,-69.71 239.5,-79.71 246.5,-79.71\"/>\n</g>\n<!-- 136383227703456 -->\n<g id=\"node7\" class=\"node\">\n<title>136383227703456</title>\n<polygon fill=\"none\" stroke=\"black\" points=\"202,-178.5 202,-247.5 284,-247.5 284,-178.5 202,-178.5\"/>\n<text text-anchor=\"middle\" x=\"243\" y=\"-232.3\" font-family=\"Times,serif\" font-size=\"14.00\">n</text>\n<polyline fill=\"none\" stroke=\"black\" points=\"202,-224.5 284,-224.5 \"/>\n<text text-anchor=\"middle\" x=\"243\" y=\"-209.3\" font-family=\"Times,serif\" font-size=\"14.00\">data 0.8814</text>\n<polyline fill=\"none\" stroke=\"black\" points=\"202,-201.5 284,-201.5 \"/>\n<text text-anchor=\"middle\" x=\"243\" y=\"-186.3\" font-family=\"Times,serif\" font-size=\"14.00\">grad 0.0000</text>\n</g>\n<!-- 136383227703456&#45;&gt;136383227695776tanh -->\n<g id=\"edge13\" class=\"edge\">\n<title>136383227703456&#45;&gt;136383227695776tanh</title>\n<path fill=\"none\" stroke=\"black\" d=\"M243,-178.11C243,-169.62 243,-160.61 243,-152.48\"/>\n<polygon fill=\"black\" stroke=\"black\" points=\"246.5,-152.4 243,-142.4 239.5,-152.4 246.5,-152.4\"/>\n</g>\n<!-- 136383227703456+ -->\n<g id=\"node8\" class=\"node\">\n<title>136383227703456+</title>\n<ellipse fill=\"none\" stroke=\"black\" cx=\"243\" cy=\"-302\" rx=\"27\" ry=\"18\"/>\n<text text-anchor=\"middle\" x=\"243\" y=\"-298.3\" font-family=\"Times,serif\" font-size=\"14.00\">+</text>\n</g>\n<!-- 136383227703456+&#45;&gt;136383227703456 -->\n<g id=\"edge3\" class=\"edge\">\n<title>136383227703456+&#45;&gt;136383227703456</title>\n<path fill=\"none\" stroke=\"black\" d=\"M243,-283.81C243,-276.33 243,-267.18 243,-258\"/>\n<polygon fill=\"black\" stroke=\"black\" points=\"246.5,-257.71 243,-247.71 239.5,-257.71 246.5,-257.71\"/>\n</g>\n<!-- 136383227703504 -->\n<g id=\"node9\" class=\"node\">\n<title>136383227703504</title>\n<polygon fill=\"none\" stroke=\"black\" points=\"200.5,-712.5 200.5,-781.5 285.5,-781.5 285.5,-712.5 200.5,-712.5\"/>\n<text text-anchor=\"middle\" x=\"243\" y=\"-766.3\" font-family=\"Times,serif\" font-size=\"14.00\">w1</text>\n<polyline fill=\"none\" stroke=\"black\" points=\"200.5,-758.5 285.5,-758.5 \"/>\n<text text-anchor=\"middle\" x=\"243\" y=\"-743.3\" font-family=\"Times,serif\" font-size=\"14.00\">data &#45;3.0000</text>\n<polyline fill=\"none\" stroke=\"black\" points=\"200.5,-735.5 285.5,-735.5 \"/>\n<text text-anchor=\"middle\" x=\"243\" y=\"-720.3\" font-family=\"Times,serif\" font-size=\"14.00\">grad 0.0000</text>\n</g>\n<!-- 136383227703504&#45;&gt;136383227705472* -->\n<g id=\"edge10\" class=\"edge\">\n<title>136383227703504&#45;&gt;136383227705472*</title>\n<path fill=\"none\" stroke=\"black\" d=\"M243,-712.11C243,-703.62 243,-694.61 243,-686.48\"/>\n<polygon fill=\"black\" stroke=\"black\" points=\"246.5,-686.4 243,-676.4 239.5,-686.4 246.5,-686.4\"/>\n</g>\n<!-- 136383227693328 -->\n<g id=\"node10\" class=\"node\">\n<title>136383227693328</title>\n<polygon fill=\"none\" stroke=\"black\" points=\"304,-712.5 304,-781.5 386,-781.5 386,-712.5 304,-712.5\"/>\n<text text-anchor=\"middle\" x=\"345\" y=\"-766.3\" font-family=\"Times,serif\" font-size=\"14.00\">x1</text>\n<polyline fill=\"none\" stroke=\"black\" points=\"304,-758.5 386,-758.5 \"/>\n<text text-anchor=\"middle\" x=\"345\" y=\"-743.3\" font-family=\"Times,serif\" font-size=\"14.00\">data 2.0000</text>\n<polyline fill=\"none\" stroke=\"black\" points=\"304,-735.5 386,-735.5 \"/>\n<text text-anchor=\"middle\" x=\"345\" y=\"-720.3\" font-family=\"Times,serif\" font-size=\"14.00\">grad 0.0000</text>\n</g>\n<!-- 136383227693328&#45;&gt;136383227705472* -->\n<g id=\"edge8\" class=\"edge\">\n<title>136383227693328&#45;&gt;136383227705472*</title>\n<path fill=\"none\" stroke=\"black\" d=\"M305.56,-712.36C292.48,-701.21 278.33,-689.13 266.8,-679.3\"/>\n<polygon fill=\"black\" stroke=\"black\" points=\"268.8,-676.4 258.92,-672.58 264.25,-681.73 268.8,-676.4\"/>\n</g>\n<!-- 136383227704704 -->\n<g id=\"node11\" class=\"node\">\n<title>136383227704704</title>\n<polygon fill=\"none\" stroke=\"black\" points=\"100,-534.5 100,-603.5 182,-603.5 182,-534.5 100,-534.5\"/>\n<text text-anchor=\"middle\" x=\"141\" y=\"-588.3\" font-family=\"Times,serif\" font-size=\"14.00\">x2w2</text>\n<polyline fill=\"none\" stroke=\"black\" points=\"100,-580.5 182,-580.5 \"/>\n<text text-anchor=\"middle\" x=\"141\" y=\"-565.3\" font-family=\"Times,serif\" font-size=\"14.00\">data 0.0000</text>\n<polyline fill=\"none\" stroke=\"black\" points=\"100,-557.5 182,-557.5 \"/>\n<text text-anchor=\"middle\" x=\"141\" y=\"-542.3\" font-family=\"Times,serif\" font-size=\"14.00\">grad 0.0000</text>\n</g>\n<!-- 136383227704704&#45;&gt;136383227695488+ -->\n<g id=\"edge9\" class=\"edge\">\n<title>136383227704704&#45;&gt;136383227695488+</title>\n<path fill=\"none\" stroke=\"black\" d=\"M160.86,-534.11C166.43,-524.62 172.37,-514.49 177.55,-505.65\"/>\n<polygon fill=\"black\" stroke=\"black\" points=\"180.6,-507.38 182.63,-496.98 174.56,-503.84 180.6,-507.38\"/>\n</g>\n<!-- 136383227704704*&#45;&gt;136383227704704 -->\n<g id=\"edge4\" class=\"edge\">\n<title>136383227704704*&#45;&gt;136383227704704</title>\n<path fill=\"none\" stroke=\"black\" d=\"M141,-639.81C141,-632.33 141,-623.18 141,-614\"/>\n<polygon fill=\"black\" stroke=\"black\" points=\"144.5,-613.71 141,-603.71 137.5,-613.71 144.5,-613.71\"/>\n</g>\n<!-- 136383227695488 -->\n<g id=\"node13\" class=\"node\">\n<title>136383227695488</title>\n<polygon fill=\"none\" stroke=\"black\" points=\"149.5,-356.5 149.5,-425.5 234.5,-425.5 234.5,-356.5 149.5,-356.5\"/>\n<text text-anchor=\"middle\" x=\"192\" y=\"-410.3\" font-family=\"Times,serif\" font-size=\"14.00\">x1w1x2w2</text>\n<polyline fill=\"none\" stroke=\"black\" points=\"149.5,-402.5 234.5,-402.5 \"/>\n<text text-anchor=\"middle\" x=\"192\" y=\"-387.3\" font-family=\"Times,serif\" font-size=\"14.00\">data &#45;6.0000</text>\n<polyline fill=\"none\" stroke=\"black\" points=\"149.5,-379.5 234.5,-379.5 \"/>\n<text text-anchor=\"middle\" x=\"192\" y=\"-364.3\" font-family=\"Times,serif\" font-size=\"14.00\">grad 0.0000</text>\n</g>\n<!-- 136383227695488&#45;&gt;136383227703456+ -->\n<g id=\"edge11\" class=\"edge\">\n<title>136383227695488&#45;&gt;136383227703456+</title>\n<path fill=\"none\" stroke=\"black\" d=\"M211.86,-356.11C217.43,-346.62 223.37,-336.49 228.55,-327.65\"/>\n<polygon fill=\"black\" stroke=\"black\" points=\"231.6,-329.38 233.63,-318.98 225.56,-325.84 231.6,-329.38\"/>\n</g>\n<!-- 136383227695488+&#45;&gt;136383227695488 -->\n<g id=\"edge5\" class=\"edge\">\n<title>136383227695488+&#45;&gt;136383227695488</title>\n<path fill=\"none\" stroke=\"black\" d=\"M192,-461.81C192,-454.33 192,-445.18 192,-436\"/>\n<polygon fill=\"black\" stroke=\"black\" points=\"195.5,-435.71 192,-425.71 188.5,-435.71 195.5,-435.71\"/>\n</g>\n<!-- 136383227705328 -->\n<g id=\"node15\" class=\"node\">\n<title>136383227705328</title>\n<polygon fill=\"none\" stroke=\"black\" points=\"253,-356.5 253,-425.5 335,-425.5 335,-356.5 253,-356.5\"/>\n<text text-anchor=\"middle\" x=\"294\" y=\"-410.3\" font-family=\"Times,serif\" font-size=\"14.00\">b</text>\n<polyline fill=\"none\" stroke=\"black\" points=\"253,-402.5 335,-402.5 \"/>\n<text text-anchor=\"middle\" x=\"294\" y=\"-387.3\" font-family=\"Times,serif\" font-size=\"14.00\">data 6.8814</text>\n<polyline fill=\"none\" stroke=\"black\" points=\"253,-379.5 335,-379.5 \"/>\n<text text-anchor=\"middle\" x=\"294\" y=\"-364.3\" font-family=\"Times,serif\" font-size=\"14.00\">grad 0.0000</text>\n</g>\n<!-- 136383227705328&#45;&gt;136383227703456+ -->\n<g id=\"edge12\" class=\"edge\">\n<title>136383227705328&#45;&gt;136383227703456+</title>\n<path fill=\"none\" stroke=\"black\" d=\"M274.14,-356.11C268.57,-346.62 262.63,-336.49 257.45,-327.65\"/>\n<polygon fill=\"black\" stroke=\"black\" points=\"260.44,-325.84 252.37,-318.98 254.4,-329.38 260.44,-325.84\"/>\n</g>\n</g>\n</svg>\n",
            "text/plain": [
              "<graphviz.graphs.Digraph at 0x7c0a31d701f0>"
            ]
          },
          "metadata": {},
          "execution_count": 6
        }
      ]
    },
    {
      "cell_type": "code",
      "source": [
        "draw_dot(o)"
      ],
      "metadata": {
        "colab": {
          "base_uri": "https://localhost:8080/",
          "height": 1000
        },
        "id": "7CWj9UvtBUkb",
        "outputId": "7afd6170-0f5b-48b3-a76a-f3b0665fa551"
      },
      "execution_count": null,
      "outputs": [
        {
          "output_type": "execute_result",
          "data": {
            "image/svg+xml": "<?xml version=\"1.0\" encoding=\"UTF-8\" standalone=\"no\"?>\n<!DOCTYPE svg PUBLIC \"-//W3C//DTD SVG 1.1//EN\"\n \"http://www.w3.org/Graphics/SVG/1.1/DTD/svg11.dtd\">\n<!-- Generated by graphviz version 2.43.0 (0)\n -->\n<!-- Title: %3 Pages: 1 -->\n<svg width=\"398pt\" height=\"790pt\"\n viewBox=\"0.00 0.00 398.00 790.00\" xmlns=\"http://www.w3.org/2000/svg\" xmlns:xlink=\"http://www.w3.org/1999/xlink\">\n<g id=\"graph0\" class=\"graph\" transform=\"scale(1 1) rotate(0) translate(4 786)\">\n<title>%3</title>\n<polygon fill=\"white\" stroke=\"transparent\" points=\"-4,4 -4,-786 394,-786 394,4 -4,4\"/>\n<!-- 136383227706480 -->\n<g id=\"node1\" class=\"node\">\n<title>136383227706480</title>\n<polygon fill=\"none\" stroke=\"black\" points=\"0,-712.5 0,-781.5 82,-781.5 82,-712.5 0,-712.5\"/>\n<text text-anchor=\"middle\" x=\"41\" y=\"-766.3\" font-family=\"Times,serif\" font-size=\"14.00\">x2</text>\n<polyline fill=\"none\" stroke=\"black\" points=\"0,-758.5 82,-758.5 \"/>\n<text text-anchor=\"middle\" x=\"41\" y=\"-743.3\" font-family=\"Times,serif\" font-size=\"14.00\">data 0.0000</text>\n<polyline fill=\"none\" stroke=\"black\" points=\"0,-735.5 82,-735.5 \"/>\n<text text-anchor=\"middle\" x=\"41\" y=\"-720.3\" font-family=\"Times,serif\" font-size=\"14.00\">grad 0.5000</text>\n</g>\n<!-- 136383227704704* -->\n<g id=\"node12\" class=\"node\">\n<title>136383227704704*</title>\n<ellipse fill=\"none\" stroke=\"black\" cx=\"141\" cy=\"-658\" rx=\"27\" ry=\"18\"/>\n<text text-anchor=\"middle\" x=\"141\" y=\"-654.3\" font-family=\"Times,serif\" font-size=\"14.00\">*</text>\n</g>\n<!-- 136383227706480&#45;&gt;136383227704704* -->\n<g id=\"edge14\" class=\"edge\">\n<title>136383227706480&#45;&gt;136383227704704*</title>\n<path fill=\"none\" stroke=\"black\" d=\"M79.66,-712.36C92.4,-701.28 106.17,-689.3 117.44,-679.5\"/>\n<polygon fill=\"black\" stroke=\"black\" points=\"119.89,-682 125.14,-672.8 115.3,-676.72 119.89,-682\"/>\n</g>\n<!-- 136383227705472 -->\n<g id=\"node2\" class=\"node\">\n<title>136383227705472</title>\n<polygon fill=\"none\" stroke=\"black\" points=\"200.5,-534.5 200.5,-603.5 285.5,-603.5 285.5,-534.5 200.5,-534.5\"/>\n<text text-anchor=\"middle\" x=\"243\" y=\"-588.3\" font-family=\"Times,serif\" font-size=\"14.00\">x1w1</text>\n<polyline fill=\"none\" stroke=\"black\" points=\"200.5,-580.5 285.5,-580.5 \"/>\n<text text-anchor=\"middle\" x=\"243\" y=\"-565.3\" font-family=\"Times,serif\" font-size=\"14.00\">data &#45;6.0000</text>\n<polyline fill=\"none\" stroke=\"black\" points=\"200.5,-557.5 285.5,-557.5 \"/>\n<text text-anchor=\"middle\" x=\"243\" y=\"-542.3\" font-family=\"Times,serif\" font-size=\"14.00\">grad 0.5000</text>\n</g>\n<!-- 136383227695488+ -->\n<g id=\"node14\" class=\"node\">\n<title>136383227695488+</title>\n<ellipse fill=\"none\" stroke=\"black\" cx=\"192\" cy=\"-480\" rx=\"27\" ry=\"18\"/>\n<text text-anchor=\"middle\" x=\"192\" y=\"-476.3\" font-family=\"Times,serif\" font-size=\"14.00\">+</text>\n</g>\n<!-- 136383227705472&#45;&gt;136383227695488+ -->\n<g id=\"edge7\" class=\"edge\">\n<title>136383227705472&#45;&gt;136383227695488+</title>\n<path fill=\"none\" stroke=\"black\" d=\"M223.14,-534.11C217.57,-524.62 211.63,-514.49 206.45,-505.65\"/>\n<polygon fill=\"black\" stroke=\"black\" points=\"209.44,-503.84 201.37,-496.98 203.4,-507.38 209.44,-503.84\"/>\n</g>\n<!-- 136383227705472* -->\n<g id=\"node3\" class=\"node\">\n<title>136383227705472*</title>\n<ellipse fill=\"none\" stroke=\"black\" cx=\"243\" cy=\"-658\" rx=\"27\" ry=\"18\"/>\n<text text-anchor=\"middle\" x=\"243\" y=\"-654.3\" font-family=\"Times,serif\" font-size=\"14.00\">*</text>\n</g>\n<!-- 136383227705472*&#45;&gt;136383227705472 -->\n<g id=\"edge1\" class=\"edge\">\n<title>136383227705472*&#45;&gt;136383227705472</title>\n<path fill=\"none\" stroke=\"black\" d=\"M243,-639.81C243,-632.33 243,-623.18 243,-614\"/>\n<polygon fill=\"black\" stroke=\"black\" points=\"246.5,-613.71 243,-603.71 239.5,-613.71 246.5,-613.71\"/>\n</g>\n<!-- 136383227693184 -->\n<g id=\"node4\" class=\"node\">\n<title>136383227693184</title>\n<polygon fill=\"none\" stroke=\"black\" points=\"100,-712.5 100,-781.5 182,-781.5 182,-712.5 100,-712.5\"/>\n<text text-anchor=\"middle\" x=\"141\" y=\"-766.3\" font-family=\"Times,serif\" font-size=\"14.00\">w2</text>\n<polyline fill=\"none\" stroke=\"black\" points=\"100,-758.5 182,-758.5 \"/>\n<text text-anchor=\"middle\" x=\"141\" y=\"-743.3\" font-family=\"Times,serif\" font-size=\"14.00\">data 1.0000</text>\n<polyline fill=\"none\" stroke=\"black\" points=\"100,-735.5 182,-735.5 \"/>\n<text text-anchor=\"middle\" x=\"141\" y=\"-720.3\" font-family=\"Times,serif\" font-size=\"14.00\">grad 0.0000</text>\n</g>\n<!-- 136383227693184&#45;&gt;136383227704704* -->\n<g id=\"edge6\" class=\"edge\">\n<title>136383227693184&#45;&gt;136383227704704*</title>\n<path fill=\"none\" stroke=\"black\" d=\"M141,-712.11C141,-703.62 141,-694.61 141,-686.48\"/>\n<polygon fill=\"black\" stroke=\"black\" points=\"144.5,-686.4 141,-676.4 137.5,-686.4 144.5,-686.4\"/>\n</g>\n<!-- 136383227695776 -->\n<g id=\"node5\" class=\"node\">\n<title>136383227695776</title>\n<polygon fill=\"none\" stroke=\"black\" points=\"202,-0.5 202,-69.5 284,-69.5 284,-0.5 202,-0.5\"/>\n<text text-anchor=\"middle\" x=\"243\" y=\"-54.3\" font-family=\"Times,serif\" font-size=\"14.00\">o</text>\n<polyline fill=\"none\" stroke=\"black\" points=\"202,-46.5 284,-46.5 \"/>\n<text text-anchor=\"middle\" x=\"243\" y=\"-31.3\" font-family=\"Times,serif\" font-size=\"14.00\">data 0.7071</text>\n<polyline fill=\"none\" stroke=\"black\" points=\"202,-23.5 284,-23.5 \"/>\n<text text-anchor=\"middle\" x=\"243\" y=\"-8.3\" font-family=\"Times,serif\" font-size=\"14.00\">grad 1.0000</text>\n</g>\n<!-- 136383227695776tanh -->\n<g id=\"node6\" class=\"node\">\n<title>136383227695776tanh</title>\n<ellipse fill=\"none\" stroke=\"black\" cx=\"243\" cy=\"-124\" rx=\"27\" ry=\"18\"/>\n<text text-anchor=\"middle\" x=\"243\" y=\"-120.3\" font-family=\"Times,serif\" font-size=\"14.00\">tanh</text>\n</g>\n<!-- 136383227695776tanh&#45;&gt;136383227695776 -->\n<g id=\"edge2\" class=\"edge\">\n<title>136383227695776tanh&#45;&gt;136383227695776</title>\n<path fill=\"none\" stroke=\"black\" d=\"M243,-105.81C243,-98.33 243,-89.18 243,-80\"/>\n<polygon fill=\"black\" stroke=\"black\" points=\"246.5,-79.71 243,-69.71 239.5,-79.71 246.5,-79.71\"/>\n</g>\n<!-- 136383227703456 -->\n<g id=\"node7\" class=\"node\">\n<title>136383227703456</title>\n<polygon fill=\"none\" stroke=\"black\" points=\"202,-178.5 202,-247.5 284,-247.5 284,-178.5 202,-178.5\"/>\n<text text-anchor=\"middle\" x=\"243\" y=\"-232.3\" font-family=\"Times,serif\" font-size=\"14.00\">n</text>\n<polyline fill=\"none\" stroke=\"black\" points=\"202,-224.5 284,-224.5 \"/>\n<text text-anchor=\"middle\" x=\"243\" y=\"-209.3\" font-family=\"Times,serif\" font-size=\"14.00\">data 0.8814</text>\n<polyline fill=\"none\" stroke=\"black\" points=\"202,-201.5 284,-201.5 \"/>\n<text text-anchor=\"middle\" x=\"243\" y=\"-186.3\" font-family=\"Times,serif\" font-size=\"14.00\">grad 0.5000</text>\n</g>\n<!-- 136383227703456&#45;&gt;136383227695776tanh -->\n<g id=\"edge13\" class=\"edge\">\n<title>136383227703456&#45;&gt;136383227695776tanh</title>\n<path fill=\"none\" stroke=\"black\" d=\"M243,-178.11C243,-169.62 243,-160.61 243,-152.48\"/>\n<polygon fill=\"black\" stroke=\"black\" points=\"246.5,-152.4 243,-142.4 239.5,-152.4 246.5,-152.4\"/>\n</g>\n<!-- 136383227703456+ -->\n<g id=\"node8\" class=\"node\">\n<title>136383227703456+</title>\n<ellipse fill=\"none\" stroke=\"black\" cx=\"243\" cy=\"-302\" rx=\"27\" ry=\"18\"/>\n<text text-anchor=\"middle\" x=\"243\" y=\"-298.3\" font-family=\"Times,serif\" font-size=\"14.00\">+</text>\n</g>\n<!-- 136383227703456+&#45;&gt;136383227703456 -->\n<g id=\"edge3\" class=\"edge\">\n<title>136383227703456+&#45;&gt;136383227703456</title>\n<path fill=\"none\" stroke=\"black\" d=\"M243,-283.81C243,-276.33 243,-267.18 243,-258\"/>\n<polygon fill=\"black\" stroke=\"black\" points=\"246.5,-257.71 243,-247.71 239.5,-257.71 246.5,-257.71\"/>\n</g>\n<!-- 136383227703504 -->\n<g id=\"node9\" class=\"node\">\n<title>136383227703504</title>\n<polygon fill=\"none\" stroke=\"black\" points=\"200.5,-712.5 200.5,-781.5 285.5,-781.5 285.5,-712.5 200.5,-712.5\"/>\n<text text-anchor=\"middle\" x=\"243\" y=\"-766.3\" font-family=\"Times,serif\" font-size=\"14.00\">w1</text>\n<polyline fill=\"none\" stroke=\"black\" points=\"200.5,-758.5 285.5,-758.5 \"/>\n<text text-anchor=\"middle\" x=\"243\" y=\"-743.3\" font-family=\"Times,serif\" font-size=\"14.00\">data &#45;3.0000</text>\n<polyline fill=\"none\" stroke=\"black\" points=\"200.5,-735.5 285.5,-735.5 \"/>\n<text text-anchor=\"middle\" x=\"243\" y=\"-720.3\" font-family=\"Times,serif\" font-size=\"14.00\">grad 1.0000</text>\n</g>\n<!-- 136383227703504&#45;&gt;136383227705472* -->\n<g id=\"edge10\" class=\"edge\">\n<title>136383227703504&#45;&gt;136383227705472*</title>\n<path fill=\"none\" stroke=\"black\" d=\"M243,-712.11C243,-703.62 243,-694.61 243,-686.48\"/>\n<polygon fill=\"black\" stroke=\"black\" points=\"246.5,-686.4 243,-676.4 239.5,-686.4 246.5,-686.4\"/>\n</g>\n<!-- 136383227693328 -->\n<g id=\"node10\" class=\"node\">\n<title>136383227693328</title>\n<polygon fill=\"none\" stroke=\"black\" points=\"304,-712.5 304,-781.5 390,-781.5 390,-712.5 304,-712.5\"/>\n<text text-anchor=\"middle\" x=\"347\" y=\"-766.3\" font-family=\"Times,serif\" font-size=\"14.00\">x1</text>\n<polyline fill=\"none\" stroke=\"black\" points=\"304,-758.5 390,-758.5 \"/>\n<text text-anchor=\"middle\" x=\"347\" y=\"-743.3\" font-family=\"Times,serif\" font-size=\"14.00\">data 2.0000</text>\n<polyline fill=\"none\" stroke=\"black\" points=\"304,-735.5 390,-735.5 \"/>\n<text text-anchor=\"middle\" x=\"347\" y=\"-720.3\" font-family=\"Times,serif\" font-size=\"14.00\">grad &#45;1.5000</text>\n</g>\n<!-- 136383227693328&#45;&gt;136383227705472* -->\n<g id=\"edge8\" class=\"edge\">\n<title>136383227693328&#45;&gt;136383227705472*</title>\n<path fill=\"none\" stroke=\"black\" d=\"M306.79,-712.36C293.32,-701.1 278.74,-688.9 266.92,-679.01\"/>\n<polygon fill=\"black\" stroke=\"black\" points=\"269.15,-676.31 259.23,-672.58 264.65,-681.68 269.15,-676.31\"/>\n</g>\n<!-- 136383227704704 -->\n<g id=\"node11\" class=\"node\">\n<title>136383227704704</title>\n<polygon fill=\"none\" stroke=\"black\" points=\"100,-534.5 100,-603.5 182,-603.5 182,-534.5 100,-534.5\"/>\n<text text-anchor=\"middle\" x=\"141\" y=\"-588.3\" font-family=\"Times,serif\" font-size=\"14.00\">x2w2</text>\n<polyline fill=\"none\" stroke=\"black\" points=\"100,-580.5 182,-580.5 \"/>\n<text text-anchor=\"middle\" x=\"141\" y=\"-565.3\" font-family=\"Times,serif\" font-size=\"14.00\">data 0.0000</text>\n<polyline fill=\"none\" stroke=\"black\" points=\"100,-557.5 182,-557.5 \"/>\n<text text-anchor=\"middle\" x=\"141\" y=\"-542.3\" font-family=\"Times,serif\" font-size=\"14.00\">grad 0.5000</text>\n</g>\n<!-- 136383227704704&#45;&gt;136383227695488+ -->\n<g id=\"edge9\" class=\"edge\">\n<title>136383227704704&#45;&gt;136383227695488+</title>\n<path fill=\"none\" stroke=\"black\" d=\"M160.86,-534.11C166.43,-524.62 172.37,-514.49 177.55,-505.65\"/>\n<polygon fill=\"black\" stroke=\"black\" points=\"180.6,-507.38 182.63,-496.98 174.56,-503.84 180.6,-507.38\"/>\n</g>\n<!-- 136383227704704*&#45;&gt;136383227704704 -->\n<g id=\"edge4\" class=\"edge\">\n<title>136383227704704*&#45;&gt;136383227704704</title>\n<path fill=\"none\" stroke=\"black\" d=\"M141,-639.81C141,-632.33 141,-623.18 141,-614\"/>\n<polygon fill=\"black\" stroke=\"black\" points=\"144.5,-613.71 141,-603.71 137.5,-613.71 144.5,-613.71\"/>\n</g>\n<!-- 136383227695488 -->\n<g id=\"node13\" class=\"node\">\n<title>136383227695488</title>\n<polygon fill=\"none\" stroke=\"black\" points=\"149.5,-356.5 149.5,-425.5 234.5,-425.5 234.5,-356.5 149.5,-356.5\"/>\n<text text-anchor=\"middle\" x=\"192\" y=\"-410.3\" font-family=\"Times,serif\" font-size=\"14.00\">x1w1x2w2</text>\n<polyline fill=\"none\" stroke=\"black\" points=\"149.5,-402.5 234.5,-402.5 \"/>\n<text text-anchor=\"middle\" x=\"192\" y=\"-387.3\" font-family=\"Times,serif\" font-size=\"14.00\">data &#45;6.0000</text>\n<polyline fill=\"none\" stroke=\"black\" points=\"149.5,-379.5 234.5,-379.5 \"/>\n<text text-anchor=\"middle\" x=\"192\" y=\"-364.3\" font-family=\"Times,serif\" font-size=\"14.00\">grad 0.5000</text>\n</g>\n<!-- 136383227695488&#45;&gt;136383227703456+ -->\n<g id=\"edge11\" class=\"edge\">\n<title>136383227695488&#45;&gt;136383227703456+</title>\n<path fill=\"none\" stroke=\"black\" d=\"M211.86,-356.11C217.43,-346.62 223.37,-336.49 228.55,-327.65\"/>\n<polygon fill=\"black\" stroke=\"black\" points=\"231.6,-329.38 233.63,-318.98 225.56,-325.84 231.6,-329.38\"/>\n</g>\n<!-- 136383227695488+&#45;&gt;136383227695488 -->\n<g id=\"edge5\" class=\"edge\">\n<title>136383227695488+&#45;&gt;136383227695488</title>\n<path fill=\"none\" stroke=\"black\" d=\"M192,-461.81C192,-454.33 192,-445.18 192,-436\"/>\n<polygon fill=\"black\" stroke=\"black\" points=\"195.5,-435.71 192,-425.71 188.5,-435.71 195.5,-435.71\"/>\n</g>\n<!-- 136383227705328 -->\n<g id=\"node15\" class=\"node\">\n<title>136383227705328</title>\n<polygon fill=\"none\" stroke=\"black\" points=\"253,-356.5 253,-425.5 335,-425.5 335,-356.5 253,-356.5\"/>\n<text text-anchor=\"middle\" x=\"294\" y=\"-410.3\" font-family=\"Times,serif\" font-size=\"14.00\">b</text>\n<polyline fill=\"none\" stroke=\"black\" points=\"253,-402.5 335,-402.5 \"/>\n<text text-anchor=\"middle\" x=\"294\" y=\"-387.3\" font-family=\"Times,serif\" font-size=\"14.00\">data 6.8814</text>\n<polyline fill=\"none\" stroke=\"black\" points=\"253,-379.5 335,-379.5 \"/>\n<text text-anchor=\"middle\" x=\"294\" y=\"-364.3\" font-family=\"Times,serif\" font-size=\"14.00\">grad 0.5000</text>\n</g>\n<!-- 136383227705328&#45;&gt;136383227703456+ -->\n<g id=\"edge12\" class=\"edge\">\n<title>136383227705328&#45;&gt;136383227703456+</title>\n<path fill=\"none\" stroke=\"black\" d=\"M274.14,-356.11C268.57,-346.62 262.63,-336.49 257.45,-327.65\"/>\n<polygon fill=\"black\" stroke=\"black\" points=\"260.44,-325.84 252.37,-318.98 254.4,-329.38 260.44,-325.84\"/>\n</g>\n</g>\n</svg>\n",
            "text/plain": [
              "<graphviz.graphs.Digraph at 0x7c0a31d71e40>"
            ]
          },
          "metadata": {},
          "execution_count": 8
        }
      ]
    },
    {
      "cell_type": "code",
      "source": [
        "o.grad=1.0"
      ],
      "metadata": {
        "id": "QjhFbUWxed91"
      },
      "execution_count": null,
      "outputs": []
    },
    {
      "cell_type": "code",
      "source": [
        "o.backward()"
      ],
      "metadata": {
        "id": "sRM5yAPaA7xK"
      },
      "execution_count": null,
      "outputs": []
    },
    {
      "cell_type": "code",
      "source": [
        "n._backward()"
      ],
      "metadata": {
        "id": "La9gyHfGemZt"
      },
      "execution_count": null,
      "outputs": []
    },
    {
      "cell_type": "code",
      "source": [
        "x1w1x2w2._backward()"
      ],
      "metadata": {
        "id": "Up9VwT6nfACi"
      },
      "execution_count": null,
      "outputs": []
    },
    {
      "cell_type": "code",
      "source": [
        "x1w1._backward()"
      ],
      "metadata": {
        "id": "g8Zw2XwefF2R"
      },
      "execution_count": null,
      "outputs": []
    },
    {
      "cell_type": "code",
      "source": [
        "x2w2._backward()"
      ],
      "metadata": {
        "id": "HQLd3nopfMcq"
      },
      "execution_count": null,
      "outputs": []
    },
    {
      "cell_type": "code",
      "source": [
        "#Para o backward propagation ir corretamente sem haver pulo, vamos fazer uma arvore\n",
        "o.grad = 1.0\n",
        "\n",
        "topo = []\n",
        "visited = set()\n",
        "def build_topo(v):\n",
        "  if v not in visited:\n",
        "    visited.add(v)\n",
        "    for child in v._prev:\n",
        "      build_topo(child)\n",
        "    topo.append(v)\n",
        "build_topo(o)\n",
        "\n",
        "for node in reversed(topo):\n",
        "  node._backward()"
      ],
      "metadata": {
        "id": "UY1y750YjBMs"
      },
      "execution_count": null,
      "outputs": []
    },
    {
      "cell_type": "markdown",
      "source": [
        "# Derivada de n"
      ],
      "metadata": {
        "id": "0q4vwxFgCaoD"
      }
    },
    {
      "cell_type": "code",
      "source": [
        "# o = tanh(n)\n",
        "# do/dn = 1 - o ** 2\n",
        "# do/dn = 1 - o.data**2\n",
        "n.grad = 0.5"
      ],
      "metadata": {
        "id": "i80jT75SCBN-"
      },
      "execution_count": null,
      "outputs": []
    },
    {
      "cell_type": "code",
      "source": [
        "1 - o.data**2"
      ],
      "metadata": {
        "colab": {
          "base_uri": "https://localhost:8080/"
        },
        "id": "4EpIqzj0B2Fi",
        "outputId": "5226098f-d297-4f13-e246-45571db8af5a"
      },
      "execution_count": null,
      "outputs": [
        {
          "output_type": "execute_result",
          "data": {
            "text/plain": [
              "0.4999999999999999"
            ]
          },
          "metadata": {},
          "execution_count": 14
        }
      ]
    },
    {
      "cell_type": "markdown",
      "source": [
        "### Derivada de x1w1x2w2, b e x1w1 e x2w2\n",
        "\n",
        "> Nó positivo: sendo um sinal de + é apenas um distribuidos de gradiente, assim sendo, a derivada de n vai fluir para os pontos onde o nó é positivo.\n",
        "\n",
        "\n"
      ],
      "metadata": {
        "id": "SF8MyJHMCgNk"
      }
    },
    {
      "cell_type": "code",
      "source": [
        "#Como é um nó positivo a derivada de n flui para os dois pontos existentes nesse nó\n",
        "x1w1x2w2.grad = 0.5\n",
        "b.grad = 0.5"
      ],
      "metadata": {
        "id": "cr3Rsel2CaKC"
      },
      "execution_count": null,
      "outputs": []
    },
    {
      "cell_type": "code",
      "source": [
        "#Como é um nó positivo a derivada de n flui para os dois pontos existentes nesse nó\n",
        "x1w1.grad = 0.5\n",
        "x2w2.grad = 0.5"
      ],
      "metadata": {
        "id": "Y_9gxuk-D1Y7"
      },
      "execution_count": null,
      "outputs": []
    },
    {
      "cell_type": "markdown",
      "source": [
        "### Derivada de x2, w2, x1, w1\n",
        "\n",
        "> Utilizando a regra de cadeira local, para descobrimo o x = w * derivada de xw e a dereivada de w = x * a derivada de xw\n",
        "\n"
      ],
      "metadata": {
        "id": "rWpv3BReDcPC"
      }
    },
    {
      "cell_type": "code",
      "source": [
        "x2.grad= w2.data * x2w2.grad\n",
        "w2.grad = x2.data * x2w2.grad"
      ],
      "metadata": {
        "id": "OGX--U-6FJS-"
      },
      "execution_count": null,
      "outputs": []
    },
    {
      "cell_type": "code",
      "source": [
        "# o = tanh(n)\n",
        "# do/dn = 1 - o ** 2"
      ],
      "metadata": {
        "id": "2bUQV4WABWWd"
      },
      "execution_count": null,
      "outputs": []
    },
    {
      "cell_type": "markdown",
      "source": [
        "# Problema de backward propagation\n",
        "\n",
        "Se o nó recebe mais de uma ação, o gradiente dele é somado duas vezes"
      ],
      "metadata": {
        "id": "7z9M5Nk-EBMV"
      }
    },
    {
      "cell_type": "code",
      "source": [
        "a = Value(3.0, label ='a')\n",
        "b = a + a ; b.label='b'\n",
        "b.backward()\n",
        "draw_dot(b)"
      ],
      "metadata": {
        "id": "wrw3iksnch6j",
        "colab": {
          "base_uri": "https://localhost:8080/",
          "height": 363
        },
        "outputId": "b02af401-0e3b-43af-d5e7-c2b5a538c253"
      },
      "execution_count": 7,
      "outputs": [
        {
          "output_type": "execute_result",
          "data": {
            "image/svg+xml": "<?xml version=\"1.0\" encoding=\"UTF-8\" standalone=\"no\"?>\n<!DOCTYPE svg PUBLIC \"-//W3C//DTD SVG 1.1//EN\"\n \"http://www.w3.org/Graphics/SVG/1.1/DTD/svg11.dtd\">\n<!-- Generated by graphviz version 2.43.0 (0)\n -->\n<!-- Title: %3 Pages: 1 -->\n<svg width=\"90pt\" height=\"256pt\"\n viewBox=\"0.00 0.00 90.00 256.00\" xmlns=\"http://www.w3.org/2000/svg\" xmlns:xlink=\"http://www.w3.org/1999/xlink\">\n<g id=\"graph0\" class=\"graph\" transform=\"scale(1 1) rotate(0) translate(4 252)\">\n<title>%3</title>\n<polygon fill=\"white\" stroke=\"transparent\" points=\"-4,4 -4,-252 86,-252 86,4 -4,4\"/>\n<!-- 136570628517280 -->\n<g id=\"node1\" class=\"node\">\n<title>136570628517280</title>\n<polygon fill=\"none\" stroke=\"black\" points=\"0,-178.5 0,-247.5 82,-247.5 82,-178.5 0,-178.5\"/>\n<text text-anchor=\"middle\" x=\"41\" y=\"-232.3\" font-family=\"Times,serif\" font-size=\"14.00\">a</text>\n<polyline fill=\"none\" stroke=\"black\" points=\"0,-224.5 82,-224.5 \"/>\n<text text-anchor=\"middle\" x=\"41\" y=\"-209.3\" font-family=\"Times,serif\" font-size=\"14.00\">data 3.0000</text>\n<polyline fill=\"none\" stroke=\"black\" points=\"0,-201.5 82,-201.5 \"/>\n<text text-anchor=\"middle\" x=\"41\" y=\"-186.3\" font-family=\"Times,serif\" font-size=\"14.00\">grad 2.0000</text>\n</g>\n<!-- 136570628521504+ -->\n<g id=\"node3\" class=\"node\">\n<title>136570628521504+</title>\n<ellipse fill=\"none\" stroke=\"black\" cx=\"41\" cy=\"-124\" rx=\"27\" ry=\"18\"/>\n<text text-anchor=\"middle\" x=\"41\" y=\"-120.3\" font-family=\"Times,serif\" font-size=\"14.00\">+</text>\n</g>\n<!-- 136570628517280&#45;&gt;136570628521504+ -->\n<g id=\"edge2\" class=\"edge\">\n<title>136570628517280&#45;&gt;136570628521504+</title>\n<path fill=\"none\" stroke=\"black\" d=\"M41,-178.11C41,-169.62 41,-160.61 41,-152.48\"/>\n<polygon fill=\"black\" stroke=\"black\" points=\"44.5,-152.4 41,-142.4 37.5,-152.4 44.5,-152.4\"/>\n</g>\n<!-- 136570628521504 -->\n<g id=\"node2\" class=\"node\">\n<title>136570628521504</title>\n<polygon fill=\"none\" stroke=\"black\" points=\"0,-0.5 0,-69.5 82,-69.5 82,-0.5 0,-0.5\"/>\n<text text-anchor=\"middle\" x=\"41\" y=\"-54.3\" font-family=\"Times,serif\" font-size=\"14.00\">b</text>\n<polyline fill=\"none\" stroke=\"black\" points=\"0,-46.5 82,-46.5 \"/>\n<text text-anchor=\"middle\" x=\"41\" y=\"-31.3\" font-family=\"Times,serif\" font-size=\"14.00\">data 6.0000</text>\n<polyline fill=\"none\" stroke=\"black\" points=\"0,-23.5 82,-23.5 \"/>\n<text text-anchor=\"middle\" x=\"41\" y=\"-8.3\" font-family=\"Times,serif\" font-size=\"14.00\">grad 1.0000</text>\n</g>\n<!-- 136570628521504+&#45;&gt;136570628521504 -->\n<g id=\"edge1\" class=\"edge\">\n<title>136570628521504+&#45;&gt;136570628521504</title>\n<path fill=\"none\" stroke=\"black\" d=\"M41,-105.81C41,-98.33 41,-89.18 41,-80\"/>\n<polygon fill=\"black\" stroke=\"black\" points=\"44.5,-79.71 41,-69.71 37.5,-79.71 44.5,-79.71\"/>\n</g>\n</g>\n</svg>\n",
            "text/plain": [
              "<graphviz.graphs.Digraph at 0x7c35d3becf10>"
            ]
          },
          "metadata": {},
          "execution_count": 7
        }
      ]
    },
    {
      "cell_type": "code",
      "source": [
        "a = Value(-2.0, label='a')\n",
        "b = Value(3.0, label='b')\n",
        "d = a * b ; d.label='d'\n",
        "e = a + b ; e.label='e'\n",
        "f = d * e ; f.label='f'\n",
        "\n",
        "f.backward()\n",
        "\n",
        "draw_dot(f)"
      ],
      "metadata": {
        "colab": {
          "base_uri": "https://localhost:8080/",
          "height": 600
        },
        "id": "fqlxRAOMElF5",
        "outputId": "fa81e550-c8db-40da-853f-64f38a633179"
      },
      "execution_count": 10,
      "outputs": [
        {
          "output_type": "execute_result",
          "data": {
            "image/svg+xml": "<?xml version=\"1.0\" encoding=\"UTF-8\" standalone=\"no\"?>\n<!DOCTYPE svg PUBLIC \"-//W3C//DTD SVG 1.1//EN\"\n \"http://www.w3.org/Graphics/SVG/1.1/DTD/svg11.dtd\">\n<!-- Generated by graphviz version 2.43.0 (0)\n -->\n<!-- Title: %3 Pages: 1 -->\n<svg width=\"198pt\" height=\"434pt\"\n viewBox=\"0.00 0.00 198.00 434.00\" xmlns=\"http://www.w3.org/2000/svg\" xmlns:xlink=\"http://www.w3.org/1999/xlink\">\n<g id=\"graph0\" class=\"graph\" transform=\"scale(1 1) rotate(0) translate(4 430)\">\n<title>%3</title>\n<polygon fill=\"white\" stroke=\"transparent\" points=\"-4,4 -4,-430 194,-430 194,4 -4,4\"/>\n<!-- 136570625948160 -->\n<g id=\"node1\" class=\"node\">\n<title>136570625948160</title>\n<polygon fill=\"none\" stroke=\"black\" points=\"0,-178.5 0,-247.5 86,-247.5 86,-178.5 0,-178.5\"/>\n<text text-anchor=\"middle\" x=\"43\" y=\"-232.3\" font-family=\"Times,serif\" font-size=\"14.00\">e</text>\n<polyline fill=\"none\" stroke=\"black\" points=\"0,-224.5 86,-224.5 \"/>\n<text text-anchor=\"middle\" x=\"43\" y=\"-209.3\" font-family=\"Times,serif\" font-size=\"14.00\">data 1.0000</text>\n<polyline fill=\"none\" stroke=\"black\" points=\"0,-201.5 86,-201.5 \"/>\n<text text-anchor=\"middle\" x=\"43\" y=\"-186.3\" font-family=\"Times,serif\" font-size=\"14.00\">grad &#45;6.0000</text>\n</g>\n<!-- 136570625945664* -->\n<g id=\"node4\" class=\"node\">\n<title>136570625945664*</title>\n<ellipse fill=\"none\" stroke=\"black\" cx=\"95\" cy=\"-124\" rx=\"27\" ry=\"18\"/>\n<text text-anchor=\"middle\" x=\"95\" y=\"-120.3\" font-family=\"Times,serif\" font-size=\"14.00\">*</text>\n</g>\n<!-- 136570625948160&#45;&gt;136570625945664* -->\n<g id=\"edge6\" class=\"edge\">\n<title>136570625948160&#45;&gt;136570625945664*</title>\n<path fill=\"none\" stroke=\"black\" d=\"M63.25,-178.11C68.93,-168.62 74.98,-158.49 80.27,-149.65\"/>\n<polygon fill=\"black\" stroke=\"black\" points=\"83.32,-151.36 85.45,-140.98 77.31,-147.77 83.32,-151.36\"/>\n</g>\n<!-- 136570625948160+ -->\n<g id=\"node2\" class=\"node\">\n<title>136570625948160+</title>\n<ellipse fill=\"none\" stroke=\"black\" cx=\"43\" cy=\"-302\" rx=\"27\" ry=\"18\"/>\n<text text-anchor=\"middle\" x=\"43\" y=\"-298.3\" font-family=\"Times,serif\" font-size=\"14.00\">+</text>\n</g>\n<!-- 136570625948160+&#45;&gt;136570625948160 -->\n<g id=\"edge1\" class=\"edge\">\n<title>136570625948160+&#45;&gt;136570625948160</title>\n<path fill=\"none\" stroke=\"black\" d=\"M43,-283.81C43,-276.33 43,-267.18 43,-258\"/>\n<polygon fill=\"black\" stroke=\"black\" points=\"46.5,-257.71 43,-247.71 39.5,-257.71 46.5,-257.71\"/>\n</g>\n<!-- 136570625945664 -->\n<g id=\"node3\" class=\"node\">\n<title>136570625945664</title>\n<polygon fill=\"none\" stroke=\"black\" points=\"52.5,-0.5 52.5,-69.5 137.5,-69.5 137.5,-0.5 52.5,-0.5\"/>\n<text text-anchor=\"middle\" x=\"95\" y=\"-54.3\" font-family=\"Times,serif\" font-size=\"14.00\">f</text>\n<polyline fill=\"none\" stroke=\"black\" points=\"52.5,-46.5 137.5,-46.5 \"/>\n<text text-anchor=\"middle\" x=\"95\" y=\"-31.3\" font-family=\"Times,serif\" font-size=\"14.00\">data &#45;6.0000</text>\n<polyline fill=\"none\" stroke=\"black\" points=\"52.5,-23.5 137.5,-23.5 \"/>\n<text text-anchor=\"middle\" x=\"95\" y=\"-8.3\" font-family=\"Times,serif\" font-size=\"14.00\">grad 1.0000</text>\n</g>\n<!-- 136570625945664*&#45;&gt;136570625945664 -->\n<g id=\"edge2\" class=\"edge\">\n<title>136570625945664*&#45;&gt;136570625945664</title>\n<path fill=\"none\" stroke=\"black\" d=\"M95,-105.81C95,-98.33 95,-89.18 95,-80\"/>\n<polygon fill=\"black\" stroke=\"black\" points=\"98.5,-79.71 95,-69.71 91.5,-79.71 98.5,-79.71\"/>\n</g>\n<!-- 136570625935104 -->\n<g id=\"node5\" class=\"node\">\n<title>136570625935104</title>\n<polygon fill=\"none\" stroke=\"black\" points=\"104.5,-178.5 104.5,-247.5 189.5,-247.5 189.5,-178.5 104.5,-178.5\"/>\n<text text-anchor=\"middle\" x=\"147\" y=\"-232.3\" font-family=\"Times,serif\" font-size=\"14.00\">d</text>\n<polyline fill=\"none\" stroke=\"black\" points=\"104.5,-224.5 189.5,-224.5 \"/>\n<text text-anchor=\"middle\" x=\"147\" y=\"-209.3\" font-family=\"Times,serif\" font-size=\"14.00\">data &#45;6.0000</text>\n<polyline fill=\"none\" stroke=\"black\" points=\"104.5,-201.5 189.5,-201.5 \"/>\n<text text-anchor=\"middle\" x=\"147\" y=\"-186.3\" font-family=\"Times,serif\" font-size=\"14.00\">grad 1.0000</text>\n</g>\n<!-- 136570625935104&#45;&gt;136570625945664* -->\n<g id=\"edge9\" class=\"edge\">\n<title>136570625935104&#45;&gt;136570625945664*</title>\n<path fill=\"none\" stroke=\"black\" d=\"M126.75,-178.11C121.07,-168.62 115.02,-158.49 109.73,-149.65\"/>\n<polygon fill=\"black\" stroke=\"black\" points=\"112.69,-147.77 104.55,-140.98 106.68,-151.36 112.69,-147.77\"/>\n</g>\n<!-- 136570625935104* -->\n<g id=\"node6\" class=\"node\">\n<title>136570625935104*</title>\n<ellipse fill=\"none\" stroke=\"black\" cx=\"147\" cy=\"-302\" rx=\"27\" ry=\"18\"/>\n<text text-anchor=\"middle\" x=\"147\" y=\"-298.3\" font-family=\"Times,serif\" font-size=\"14.00\">*</text>\n</g>\n<!-- 136570625935104*&#45;&gt;136570625935104 -->\n<g id=\"edge3\" class=\"edge\">\n<title>136570625935104*&#45;&gt;136570625935104</title>\n<path fill=\"none\" stroke=\"black\" d=\"M147,-283.81C147,-276.33 147,-267.18 147,-258\"/>\n<polygon fill=\"black\" stroke=\"black\" points=\"150.5,-257.71 147,-247.71 143.5,-257.71 150.5,-257.71\"/>\n</g>\n<!-- 136570627607808 -->\n<g id=\"node7\" class=\"node\">\n<title>136570627607808</title>\n<polygon fill=\"none\" stroke=\"black\" points=\"0,-356.5 0,-425.5 86,-425.5 86,-356.5 0,-356.5\"/>\n<text text-anchor=\"middle\" x=\"43\" y=\"-410.3\" font-family=\"Times,serif\" font-size=\"14.00\">b</text>\n<polyline fill=\"none\" stroke=\"black\" points=\"0,-402.5 86,-402.5 \"/>\n<text text-anchor=\"middle\" x=\"43\" y=\"-387.3\" font-family=\"Times,serif\" font-size=\"14.00\">data 3.0000</text>\n<polyline fill=\"none\" stroke=\"black\" points=\"0,-379.5 86,-379.5 \"/>\n<text text-anchor=\"middle\" x=\"43\" y=\"-364.3\" font-family=\"Times,serif\" font-size=\"14.00\">grad &#45;8.0000</text>\n</g>\n<!-- 136570627607808&#45;&gt;136570625948160+ -->\n<g id=\"edge5\" class=\"edge\">\n<title>136570627607808&#45;&gt;136570625948160+</title>\n<path fill=\"none\" stroke=\"black\" d=\"M43,-356.11C43,-347.62 43,-338.61 43,-330.48\"/>\n<polygon fill=\"black\" stroke=\"black\" points=\"46.5,-330.4 43,-320.4 39.5,-330.4 46.5,-330.4\"/>\n</g>\n<!-- 136570627607808&#45;&gt;136570625935104* -->\n<g id=\"edge4\" class=\"edge\">\n<title>136570627607808&#45;&gt;136570625935104*</title>\n<path fill=\"none\" stroke=\"black\" d=\"M83.21,-356.36C96.68,-345.1 111.26,-332.9 123.08,-323.01\"/>\n<polygon fill=\"black\" stroke=\"black\" points=\"125.35,-325.68 130.77,-316.58 120.85,-320.31 125.35,-325.68\"/>\n</g>\n<!-- 136570627609488 -->\n<g id=\"node8\" class=\"node\">\n<title>136570627609488</title>\n<polygon fill=\"none\" stroke=\"black\" points=\"104,-356.5 104,-425.5 190,-425.5 190,-356.5 104,-356.5\"/>\n<text text-anchor=\"middle\" x=\"147\" y=\"-410.3\" font-family=\"Times,serif\" font-size=\"14.00\">a</text>\n<polyline fill=\"none\" stroke=\"black\" points=\"104,-402.5 190,-402.5 \"/>\n<text text-anchor=\"middle\" x=\"147\" y=\"-387.3\" font-family=\"Times,serif\" font-size=\"14.00\">data &#45;2.0000</text>\n<polyline fill=\"none\" stroke=\"black\" points=\"104,-379.5 190,-379.5 \"/>\n<text text-anchor=\"middle\" x=\"147\" y=\"-364.3\" font-family=\"Times,serif\" font-size=\"14.00\">grad &#45;3.0000</text>\n</g>\n<!-- 136570627609488&#45;&gt;136570625948160+ -->\n<g id=\"edge8\" class=\"edge\">\n<title>136570627609488&#45;&gt;136570625948160+</title>\n<path fill=\"none\" stroke=\"black\" d=\"M106.79,-356.36C93.32,-345.1 78.74,-332.9 66.92,-323.01\"/>\n<polygon fill=\"black\" stroke=\"black\" points=\"69.15,-320.31 59.23,-316.58 64.65,-325.68 69.15,-320.31\"/>\n</g>\n<!-- 136570627609488&#45;&gt;136570625935104* -->\n<g id=\"edge7\" class=\"edge\">\n<title>136570627609488&#45;&gt;136570625935104*</title>\n<path fill=\"none\" stroke=\"black\" d=\"M147,-356.11C147,-347.62 147,-338.61 147,-330.48\"/>\n<polygon fill=\"black\" stroke=\"black\" points=\"150.5,-330.4 147,-320.4 143.5,-330.4 150.5,-330.4\"/>\n</g>\n</g>\n</svg>\n",
            "text/plain": [
              "<graphviz.graphs.Digraph at 0x7c35d3a54a60>"
            ]
          },
          "metadata": {},
          "execution_count": 10
        }
      ]
    }
  ]
}