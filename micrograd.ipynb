{
  "nbformat": 4,
  "nbformat_minor": 0,
  "metadata": {
    "colab": {
      "provenance": [],
      "authorship_tag": "ABX9TyPjG4xfpiOrc8NXWwPtz9uj",
      "include_colab_link": true
    },
    "kernelspec": {
      "name": "python3",
      "display_name": "Python 3"
    },
    "language_info": {
      "name": "python"
    }
  },
  "cells": [
    {
      "cell_type": "markdown",
      "metadata": {
        "id": "view-in-github",
        "colab_type": "text"
      },
      "source": [
        "<a href=\"https://colab.research.google.com/github/PabloViniciusSS/micrograd/blob/main/micrograd.ipynb\" target=\"_parent\"><img src=\"https://colab.research.google.com/assets/colab-badge.svg\" alt=\"Open In Colab\"/></a>"
      ]
    },
    {
      "cell_type": "code",
      "execution_count": 1,
      "metadata": {
        "id": "1iLViQb5LjEg"
      },
      "outputs": [],
      "source": [
        "import math\n",
        "import numpy as np\n",
        "import matplotlib.pyplot as plt\n",
        "%matplotlib inline"
      ]
    },
    {
      "cell_type": "code",
      "source": [
        "class Value:\n",
        "\n",
        "  def __init__(self, data, _children=(), _op=\"\", label=\"\"):\n",
        "    self.data = data\n",
        "    self.grad = 0.0\n",
        "    self._backward = lambda:None\n",
        "    self._prev = set(_children)\n",
        "    self._op = _op\n",
        "    self.label = label\n",
        "\n",
        "  def __repr__(self):\n",
        "    return f'Value(data={self.data})'\n",
        "\n",
        "  def __add__(self, other):\n",
        "    out = Value(self.data + other.data, (self, other), '+')\n",
        "\n",
        "    def _backward():\n",
        "      self.grad = 1.0 * out.grad\n",
        "      other.grad = 1.0 * out.grad\n",
        "    out._backward = _backward\n",
        "\n",
        "    return out\n",
        "\n",
        "  def __mul__(self, other):\n",
        "    out = Value(self.data * other.data, (self, other), '*')\n",
        "\n",
        "    def _backward():\n",
        "      self.grad = other.data * out.grad\n",
        "      other.grad = self.data * out.grad\n",
        "    out._backward = _backward\n",
        "    return out\n",
        "\n",
        "  def tanh(self):\n",
        "    x = self.data\n",
        "    t = (math.exp(2*x) - 1) / (math.exp(2*x) + 1)\n",
        "    out = Value(t, (self, ), 'tanh')\n",
        "\n",
        "    def _backward():\n",
        "      self.grad = (1 - t**2) * out.grad\n",
        "    out._backward = _backward\n",
        "    return out\n",
        "\n",
        "\n",
        "  def backward(self):\n",
        "\n",
        "    topo = []\n",
        "    visited = set()\n",
        "    def build_topo(v):\n",
        "      if v not in visited:\n",
        "          visited.add(v)\n",
        "          for child in v._prev:\n",
        "            build_topo(child)\n",
        "          topo.append(v)\n",
        "    build_topo(self)\n",
        "\n",
        "    self.grad = 1.0\n",
        "    for node in reversed(topo):\n",
        "      node._backward()"
      ],
      "metadata": {
        "id": "k6D1-o-eCk-q"
      },
      "execution_count": 52,
      "outputs": []
    },
    {
      "cell_type": "code",
      "source": [
        "a = Value(2.0, label=\"a\")\n",
        "b = Value(-3.0, label=\"b\")\n",
        "c = Value(10.0, label=\"c\")\n",
        "e = a*b; e.label=\"e\"\n",
        "d = e+c; d.label=\"d\"\n",
        "f = Value(-2.0, label=\"f\")\n",
        "L = d * f; L.label=\"L\"\n",
        "L"
      ],
      "metadata": {
        "colab": {
          "base_uri": "https://localhost:8080/"
        },
        "id": "QUtbxiYQOcru",
        "outputId": "2b46372f-5750-40ed-8d76-981f1cf2f3db"
      },
      "execution_count": 3,
      "outputs": [
        {
          "output_type": "execute_result",
          "data": {
            "text/plain": [
              "Value(data=-8.0)"
            ]
          },
          "metadata": {},
          "execution_count": 3
        }
      ]
    },
    {
      "cell_type": "code",
      "source": [
        "from graphviz import Digraph\n",
        "\n",
        "def trace(root):\n",
        "\n",
        "  nodes, edges = set(), set()\n",
        "  def build(v):\n",
        "    if v not in nodes:\n",
        "      nodes.add(v)\n",
        "      for child in v._prev:\n",
        "        edges.add((child,v))\n",
        "        build(child)\n",
        "  build(root)\n",
        "  return nodes, edges\n",
        "\n",
        "def draw_dot(root):\n",
        "    dot = Digraph(format='svg', graph_attr={'randir':'LR'})\n",
        "\n",
        "    nodes, edges = trace(root)\n",
        "    for n in nodes:\n",
        "      uid = str(id(n))\n",
        "      dot.node(name = uid, label = \"{%s | data %.4f | grad %.4f }\" % (n.label, n.data, n.grad), shape='record')\n",
        "\n",
        "      if n._op:\n",
        "\n",
        "        dot.node(name = uid + n._op, label = n._op)\n",
        "\n",
        "        dot.edge(uid + n._op, uid)\n",
        "\n",
        "    for n1, n2 in edges:\n",
        "\n",
        "      dot.edge(str(id(n1)), str(id(n2)) + n2._op)\n",
        "\n",
        "    return dot\n"
      ],
      "metadata": {
        "id": "H8lYF_-gOgiz"
      },
      "execution_count": 4,
      "outputs": []
    },
    {
      "cell_type": "code",
      "source": [
        "draw_dot(L)"
      ],
      "metadata": {
        "id": "DFAz_aJUO6Dc",
        "colab": {
          "base_uri": "https://localhost:8080/",
          "height": 837
        },
        "outputId": "ea3099f1-acb8-4f9b-cc36-1cd83632d372"
      },
      "execution_count": 5,
      "outputs": [
        {
          "output_type": "execute_result",
          "data": {
            "image/svg+xml": "<?xml version=\"1.0\" encoding=\"UTF-8\" standalone=\"no\"?>\n<!DOCTYPE svg PUBLIC \"-//W3C//DTD SVG 1.1//EN\"\n \"http://www.w3.org/Graphics/SVG/1.1/DTD/svg11.dtd\">\n<!-- Generated by graphviz version 2.43.0 (0)\n -->\n<!-- Title: %3 Pages: 1 -->\n<svg width=\"298pt\" height=\"612pt\"\n viewBox=\"0.00 0.00 298.00 612.00\" xmlns=\"http://www.w3.org/2000/svg\" xmlns:xlink=\"http://www.w3.org/1999/xlink\">\n<g id=\"graph0\" class=\"graph\" transform=\"scale(1 1) rotate(0) translate(4 608)\">\n<title>%3</title>\n<polygon fill=\"white\" stroke=\"transparent\" points=\"-4,4 -4,-608 294,-608 294,4 -4,4\"/>\n<!-- 134947160446464 -->\n<g id=\"node1\" class=\"node\">\n<title>134947160446464</title>\n<polygon fill=\"none\" stroke=\"black\" points=\"51,-0.5 51,-69.5 136,-69.5 136,-0.5 51,-0.5\"/>\n<text text-anchor=\"middle\" x=\"93.5\" y=\"-54.3\" font-family=\"Times,serif\" font-size=\"14.00\">L</text>\n<polyline fill=\"none\" stroke=\"black\" points=\"51,-46.5 136,-46.5 \"/>\n<text text-anchor=\"middle\" x=\"93.5\" y=\"-31.3\" font-family=\"Times,serif\" font-size=\"14.00\">data &#45;8.0000</text>\n<polyline fill=\"none\" stroke=\"black\" points=\"51,-23.5 136,-23.5 \"/>\n<text text-anchor=\"middle\" x=\"93.5\" y=\"-8.3\" font-family=\"Times,serif\" font-size=\"14.00\">grad 0.0000</text>\n</g>\n<!-- 134947160446464* -->\n<g id=\"node2\" class=\"node\">\n<title>134947160446464*</title>\n<ellipse fill=\"none\" stroke=\"black\" cx=\"93.5\" cy=\"-124\" rx=\"27\" ry=\"18\"/>\n<text text-anchor=\"middle\" x=\"93.5\" y=\"-120.3\" font-family=\"Times,serif\" font-size=\"14.00\">*</text>\n</g>\n<!-- 134947160446464*&#45;&gt;134947160446464 -->\n<g id=\"edge1\" class=\"edge\">\n<title>134947160446464*&#45;&gt;134947160446464</title>\n<path fill=\"none\" stroke=\"black\" d=\"M93.5,-105.81C93.5,-98.33 93.5,-89.18 93.5,-80\"/>\n<polygon fill=\"black\" stroke=\"black\" points=\"97,-79.71 93.5,-69.71 90,-79.71 97,-79.71\"/>\n</g>\n<!-- 134947160445984 -->\n<g id=\"node3\" class=\"node\">\n<title>134947160445984</title>\n<polygon fill=\"none\" stroke=\"black\" points=\"49,-356.5 49,-425.5 136,-425.5 136,-356.5 49,-356.5\"/>\n<text text-anchor=\"middle\" x=\"92.5\" y=\"-410.3\" font-family=\"Times,serif\" font-size=\"14.00\">c</text>\n<polyline fill=\"none\" stroke=\"black\" points=\"49,-402.5 136,-402.5 \"/>\n<text text-anchor=\"middle\" x=\"92.5\" y=\"-387.3\" font-family=\"Times,serif\" font-size=\"14.00\">data 10.0000</text>\n<polyline fill=\"none\" stroke=\"black\" points=\"49,-379.5 136,-379.5 \"/>\n<text text-anchor=\"middle\" x=\"92.5\" y=\"-364.3\" font-family=\"Times,serif\" font-size=\"14.00\">grad 0.0000</text>\n</g>\n<!-- 134947160443152+ -->\n<g id=\"node8\" class=\"node\">\n<title>134947160443152+</title>\n<ellipse fill=\"none\" stroke=\"black\" cx=\"144.5\" cy=\"-302\" rx=\"27\" ry=\"18\"/>\n<text text-anchor=\"middle\" x=\"144.5\" y=\"-298.3\" font-family=\"Times,serif\" font-size=\"14.00\">+</text>\n</g>\n<!-- 134947160445984&#45;&gt;134947160443152+ -->\n<g id=\"edge5\" class=\"edge\">\n<title>134947160445984&#45;&gt;134947160443152+</title>\n<path fill=\"none\" stroke=\"black\" d=\"M112.75,-356.11C118.43,-346.62 124.48,-336.49 129.77,-327.65\"/>\n<polygon fill=\"black\" stroke=\"black\" points=\"132.82,-329.36 134.95,-318.98 126.81,-325.77 132.82,-329.36\"/>\n</g>\n<!-- 134947160443968 -->\n<g id=\"node4\" class=\"node\">\n<title>134947160443968</title>\n<polygon fill=\"none\" stroke=\"black\" points=\"0,-178.5 0,-247.5 85,-247.5 85,-178.5 0,-178.5\"/>\n<text text-anchor=\"middle\" x=\"42.5\" y=\"-232.3\" font-family=\"Times,serif\" font-size=\"14.00\">f</text>\n<polyline fill=\"none\" stroke=\"black\" points=\"0,-224.5 85,-224.5 \"/>\n<text text-anchor=\"middle\" x=\"42.5\" y=\"-209.3\" font-family=\"Times,serif\" font-size=\"14.00\">data &#45;2.0000</text>\n<polyline fill=\"none\" stroke=\"black\" points=\"0,-201.5 85,-201.5 \"/>\n<text text-anchor=\"middle\" x=\"42.5\" y=\"-186.3\" font-family=\"Times,serif\" font-size=\"14.00\">grad 0.0000</text>\n</g>\n<!-- 134947160443968&#45;&gt;134947160446464* -->\n<g id=\"edge7\" class=\"edge\">\n<title>134947160443968&#45;&gt;134947160446464*</title>\n<path fill=\"none\" stroke=\"black\" d=\"M62.36,-178.11C67.93,-168.62 73.87,-158.49 79.05,-149.65\"/>\n<polygon fill=\"black\" stroke=\"black\" points=\"82.1,-151.38 84.13,-140.98 76.06,-147.84 82.1,-151.38\"/>\n</g>\n<!-- 134947160449680 -->\n<g id=\"node5\" class=\"node\">\n<title>134947160449680</title>\n<polygon fill=\"none\" stroke=\"black\" points=\"104.5,-534.5 104.5,-603.5 186.5,-603.5 186.5,-534.5 104.5,-534.5\"/>\n<text text-anchor=\"middle\" x=\"145.5\" y=\"-588.3\" font-family=\"Times,serif\" font-size=\"14.00\">a</text>\n<polyline fill=\"none\" stroke=\"black\" points=\"104.5,-580.5 186.5,-580.5 \"/>\n<text text-anchor=\"middle\" x=\"145.5\" y=\"-565.3\" font-family=\"Times,serif\" font-size=\"14.00\">data 2.0000</text>\n<polyline fill=\"none\" stroke=\"black\" points=\"104.5,-557.5 186.5,-557.5 \"/>\n<text text-anchor=\"middle\" x=\"145.5\" y=\"-542.3\" font-family=\"Times,serif\" font-size=\"14.00\">grad 0.0000</text>\n</g>\n<!-- 134947160445936* -->\n<g id=\"node10\" class=\"node\">\n<title>134947160445936*</title>\n<ellipse fill=\"none\" stroke=\"black\" cx=\"196.5\" cy=\"-480\" rx=\"27\" ry=\"18\"/>\n<text text-anchor=\"middle\" x=\"196.5\" y=\"-476.3\" font-family=\"Times,serif\" font-size=\"14.00\">*</text>\n</g>\n<!-- 134947160449680&#45;&gt;134947160445936* -->\n<g id=\"edge6\" class=\"edge\">\n<title>134947160449680&#45;&gt;134947160445936*</title>\n<path fill=\"none\" stroke=\"black\" d=\"M165.36,-534.11C170.93,-524.62 176.87,-514.49 182.05,-505.65\"/>\n<polygon fill=\"black\" stroke=\"black\" points=\"185.1,-507.38 187.13,-496.98 179.06,-503.84 185.1,-507.38\"/>\n</g>\n<!-- 134947160453328 -->\n<g id=\"node6\" class=\"node\">\n<title>134947160453328</title>\n<polygon fill=\"none\" stroke=\"black\" points=\"205,-534.5 205,-603.5 290,-603.5 290,-534.5 205,-534.5\"/>\n<text text-anchor=\"middle\" x=\"247.5\" y=\"-588.3\" font-family=\"Times,serif\" font-size=\"14.00\">b</text>\n<polyline fill=\"none\" stroke=\"black\" points=\"205,-580.5 290,-580.5 \"/>\n<text text-anchor=\"middle\" x=\"247.5\" y=\"-565.3\" font-family=\"Times,serif\" font-size=\"14.00\">data &#45;3.0000</text>\n<polyline fill=\"none\" stroke=\"black\" points=\"205,-557.5 290,-557.5 \"/>\n<text text-anchor=\"middle\" x=\"247.5\" y=\"-542.3\" font-family=\"Times,serif\" font-size=\"14.00\">grad 0.0000</text>\n</g>\n<!-- 134947160453328&#45;&gt;134947160445936* -->\n<g id=\"edge9\" class=\"edge\">\n<title>134947160453328&#45;&gt;134947160445936*</title>\n<path fill=\"none\" stroke=\"black\" d=\"M227.64,-534.11C222.07,-524.62 216.13,-514.49 210.95,-505.65\"/>\n<polygon fill=\"black\" stroke=\"black\" points=\"213.94,-503.84 205.87,-496.98 207.9,-507.38 213.94,-503.84\"/>\n</g>\n<!-- 134947160443152 -->\n<g id=\"node7\" class=\"node\">\n<title>134947160443152</title>\n<polygon fill=\"none\" stroke=\"black\" points=\"103.5,-178.5 103.5,-247.5 185.5,-247.5 185.5,-178.5 103.5,-178.5\"/>\n<text text-anchor=\"middle\" x=\"144.5\" y=\"-232.3\" font-family=\"Times,serif\" font-size=\"14.00\">d</text>\n<polyline fill=\"none\" stroke=\"black\" points=\"103.5,-224.5 185.5,-224.5 \"/>\n<text text-anchor=\"middle\" x=\"144.5\" y=\"-209.3\" font-family=\"Times,serif\" font-size=\"14.00\">data 4.0000</text>\n<polyline fill=\"none\" stroke=\"black\" points=\"103.5,-201.5 185.5,-201.5 \"/>\n<text text-anchor=\"middle\" x=\"144.5\" y=\"-186.3\" font-family=\"Times,serif\" font-size=\"14.00\">grad 0.0000</text>\n</g>\n<!-- 134947160443152&#45;&gt;134947160446464* -->\n<g id=\"edge4\" class=\"edge\">\n<title>134947160443152&#45;&gt;134947160446464*</title>\n<path fill=\"none\" stroke=\"black\" d=\"M124.64,-178.11C119.07,-168.62 113.13,-158.49 107.95,-149.65\"/>\n<polygon fill=\"black\" stroke=\"black\" points=\"110.94,-147.84 102.87,-140.98 104.9,-151.38 110.94,-147.84\"/>\n</g>\n<!-- 134947160443152+&#45;&gt;134947160443152 -->\n<g id=\"edge2\" class=\"edge\">\n<title>134947160443152+&#45;&gt;134947160443152</title>\n<path fill=\"none\" stroke=\"black\" d=\"M144.5,-283.81C144.5,-276.33 144.5,-267.18 144.5,-258\"/>\n<polygon fill=\"black\" stroke=\"black\" points=\"148,-257.71 144.5,-247.71 141,-257.71 148,-257.71\"/>\n</g>\n<!-- 134947160445936 -->\n<g id=\"node9\" class=\"node\">\n<title>134947160445936</title>\n<polygon fill=\"none\" stroke=\"black\" points=\"154,-356.5 154,-425.5 239,-425.5 239,-356.5 154,-356.5\"/>\n<text text-anchor=\"middle\" x=\"196.5\" y=\"-410.3\" font-family=\"Times,serif\" font-size=\"14.00\">e</text>\n<polyline fill=\"none\" stroke=\"black\" points=\"154,-402.5 239,-402.5 \"/>\n<text text-anchor=\"middle\" x=\"196.5\" y=\"-387.3\" font-family=\"Times,serif\" font-size=\"14.00\">data &#45;6.0000</text>\n<polyline fill=\"none\" stroke=\"black\" points=\"154,-379.5 239,-379.5 \"/>\n<text text-anchor=\"middle\" x=\"196.5\" y=\"-364.3\" font-family=\"Times,serif\" font-size=\"14.00\">grad 0.0000</text>\n</g>\n<!-- 134947160445936&#45;&gt;134947160443152+ -->\n<g id=\"edge8\" class=\"edge\">\n<title>134947160445936&#45;&gt;134947160443152+</title>\n<path fill=\"none\" stroke=\"black\" d=\"M176.25,-356.11C170.57,-346.62 164.52,-336.49 159.23,-327.65\"/>\n<polygon fill=\"black\" stroke=\"black\" points=\"162.19,-325.77 154.05,-318.98 156.18,-329.36 162.19,-325.77\"/>\n</g>\n<!-- 134947160445936*&#45;&gt;134947160445936 -->\n<g id=\"edge3\" class=\"edge\">\n<title>134947160445936*&#45;&gt;134947160445936</title>\n<path fill=\"none\" stroke=\"black\" d=\"M196.5,-461.81C196.5,-454.33 196.5,-445.18 196.5,-436\"/>\n<polygon fill=\"black\" stroke=\"black\" points=\"200,-435.71 196.5,-425.71 193,-435.71 200,-435.71\"/>\n</g>\n</g>\n</svg>\n",
            "text/plain": [
              "<graphviz.graphs.Digraph at 0x7abbd58fd540>"
            ]
          },
          "metadata": {},
          "execution_count": 5
        }
      ]
    },
    {
      "cell_type": "code",
      "source": [
        "a.grad= 6\n",
        "b.grad=-4\n",
        "c.grad=-2\n",
        "e.grad=-2\n",
        "d.grad=-2\n",
        "f.grad=4\n"
      ],
      "metadata": {
        "id": "LY-0rJwDvEEW"
      },
      "execution_count": 6,
      "outputs": []
    },
    {
      "cell_type": "code",
      "source": [
        "a.data += 0.01 * a.grad\n",
        "b.data += 0.01 * b.grad\n",
        "c.data += 0.01 * c.grad\n",
        "f.data += 0.01 * f.grad\n",
        "\n",
        "e = a * b\n",
        "d = e + c\n",
        "L = d * f\n",
        "print(L.data)"
      ],
      "metadata": {
        "colab": {
          "base_uri": "https://localhost:8080/"
        },
        "id": "8vKsGLVKXH38",
        "outputId": "cf29a798-af20-43d5-bdbf-6b01a913880f"
      },
      "execution_count": 7,
      "outputs": [
        {
          "output_type": "stream",
          "name": "stdout",
          "text": [
            "-7.286496\n"
          ]
        }
      ]
    },
    {
      "cell_type": "code",
      "source": [
        "def lol():\n",
        "\n",
        "  h = 0.001\n",
        "\n",
        "  a = Value(2.0, label='a')\n",
        "  b = Value(-3.0, label='b')\n",
        "  c = Value(10.0, label='c')\n",
        "  e = a * b; e.label='e'\n",
        "  d = e + c; d.label='d'\n",
        "  f = Value(-2.0, label='f')\n",
        "  L = d * f; L.label = 'L'\n",
        "  L1 = L.data\n",
        "\n",
        "\n",
        "  a = Value(2.0, label='a')\n",
        "  b = Value(-3.0, label='b')\n",
        "  c = Value(10.0, label='c')\n",
        "  e = a * b; e.label='e'\n",
        "  d = e + c; d.label='d'\n",
        "  f = Value(-2.0, label='f')\n",
        "  L = d * f; L.label = 'L'\n",
        "  L2 = L.data + h\n",
        "\n",
        "  print((L2-L1)/h) #Calculo da derivada de L\n",
        "lol()"
      ],
      "metadata": {
        "colab": {
          "base_uri": "https://localhost:8080/"
        },
        "id": "j2Nny5TMfDMN",
        "outputId": "44a40415-5664-42df-bb29-62c50d3282f8"
      },
      "execution_count": 8,
      "outputs": [
        {
          "output_type": "stream",
          "name": "stdout",
          "text": [
            "1.000000000000334\n"
          ]
        }
      ]
    },
    {
      "cell_type": "code",
      "source": [
        "L.grad = 1.0"
      ],
      "metadata": {
        "id": "z_S1lnNLfKn_"
      },
      "execution_count": 9,
      "outputs": []
    },
    {
      "cell_type": "code",
      "source": [
        "#inputs x1, x2\n",
        "x1 = Value(2.0, label='x1')\n",
        "x2 = Value(0.0, label='x2')\n",
        "#pesos w1, w2\n",
        "w1 = Value(-3.0, label='w1')\n",
        "w2 = Value(1.0, label='w2')\n",
        "#vies dos neuronios\n",
        "b = Value(6.8813735870195432, label='b')\n",
        "#x1w1 + x2w2 + b\n",
        "x1w1 = x1*w1; x1w1.label = 'x1w1'\n",
        "x2w2 = x2*w2; x2w2.label = 'x2w2'\n",
        "x1w1x2w2 = x1w1 + x2w2; x1w1x2w2.label='x1w1x2w2'\n",
        "n = x1w1x2w2 + b; n.label = 'n'\n",
        "o = n.tanh(); o.label = 'o'\n",
        "\n",
        "draw_dot(o)"
      ],
      "metadata": {
        "id": "UqGm9y6lfNro",
        "colab": {
          "base_uri": "https://localhost:8080/",
          "height": 1000
        },
        "outputId": "2b0daa63-09b2-4ae5-dbe8-35c98037b32f"
      },
      "execution_count": 53,
      "outputs": [
        {
          "output_type": "execute_result",
          "data": {
            "image/svg+xml": "<?xml version=\"1.0\" encoding=\"UTF-8\" standalone=\"no\"?>\n<!DOCTYPE svg PUBLIC \"-//W3C//DTD SVG 1.1//EN\"\n \"http://www.w3.org/Graphics/SVG/1.1/DTD/svg11.dtd\">\n<!-- Generated by graphviz version 2.43.0 (0)\n -->\n<!-- Title: %3 Pages: 1 -->\n<svg width=\"394pt\" height=\"790pt\"\n viewBox=\"0.00 0.00 394.00 790.00\" xmlns=\"http://www.w3.org/2000/svg\" xmlns:xlink=\"http://www.w3.org/1999/xlink\">\n<g id=\"graph0\" class=\"graph\" transform=\"scale(1 1) rotate(0) translate(4 786)\">\n<title>%3</title>\n<polygon fill=\"white\" stroke=\"transparent\" points=\"-4,4 -4,-786 390,-786 390,4 -4,4\"/>\n<!-- 134946317401632 -->\n<g id=\"node1\" class=\"node\">\n<title>134946317401632</title>\n<polygon fill=\"none\" stroke=\"black\" points=\"200.5,-534.5 200.5,-603.5 285.5,-603.5 285.5,-534.5 200.5,-534.5\"/>\n<text text-anchor=\"middle\" x=\"243\" y=\"-588.3\" font-family=\"Times,serif\" font-size=\"14.00\">x1w1</text>\n<polyline fill=\"none\" stroke=\"black\" points=\"200.5,-580.5 285.5,-580.5 \"/>\n<text text-anchor=\"middle\" x=\"243\" y=\"-565.3\" font-family=\"Times,serif\" font-size=\"14.00\">data &#45;6.0000</text>\n<polyline fill=\"none\" stroke=\"black\" points=\"200.5,-557.5 285.5,-557.5 \"/>\n<text text-anchor=\"middle\" x=\"243\" y=\"-542.3\" font-family=\"Times,serif\" font-size=\"14.00\">grad 0.0000</text>\n</g>\n<!-- 134946317392848+ -->\n<g id=\"node15\" class=\"node\">\n<title>134946317392848+</title>\n<ellipse fill=\"none\" stroke=\"black\" cx=\"192\" cy=\"-480\" rx=\"27\" ry=\"18\"/>\n<text text-anchor=\"middle\" x=\"192\" y=\"-476.3\" font-family=\"Times,serif\" font-size=\"14.00\">+</text>\n</g>\n<!-- 134946317401632&#45;&gt;134946317392848+ -->\n<g id=\"edge14\" class=\"edge\">\n<title>134946317401632&#45;&gt;134946317392848+</title>\n<path fill=\"none\" stroke=\"black\" d=\"M223.14,-534.11C217.57,-524.62 211.63,-514.49 206.45,-505.65\"/>\n<polygon fill=\"black\" stroke=\"black\" points=\"209.44,-503.84 201.37,-496.98 203.4,-507.38 209.44,-503.84\"/>\n</g>\n<!-- 134946317401632* -->\n<g id=\"node2\" class=\"node\">\n<title>134946317401632*</title>\n<ellipse fill=\"none\" stroke=\"black\" cx=\"243\" cy=\"-658\" rx=\"27\" ry=\"18\"/>\n<text text-anchor=\"middle\" x=\"243\" y=\"-654.3\" font-family=\"Times,serif\" font-size=\"14.00\">*</text>\n</g>\n<!-- 134946317401632*&#45;&gt;134946317401632 -->\n<g id=\"edge1\" class=\"edge\">\n<title>134946317401632*&#45;&gt;134946317401632</title>\n<path fill=\"none\" stroke=\"black\" d=\"M243,-639.81C243,-632.33 243,-623.18 243,-614\"/>\n<polygon fill=\"black\" stroke=\"black\" points=\"246.5,-613.71 243,-603.71 239.5,-613.71 246.5,-613.71\"/>\n</g>\n<!-- 134947160160384 -->\n<g id=\"node3\" class=\"node\">\n<title>134947160160384</title>\n<polygon fill=\"none\" stroke=\"black\" points=\"0,-712.5 0,-781.5 82,-781.5 82,-712.5 0,-712.5\"/>\n<text text-anchor=\"middle\" x=\"41\" y=\"-766.3\" font-family=\"Times,serif\" font-size=\"14.00\">x2</text>\n<polyline fill=\"none\" stroke=\"black\" points=\"0,-758.5 82,-758.5 \"/>\n<text text-anchor=\"middle\" x=\"41\" y=\"-743.3\" font-family=\"Times,serif\" font-size=\"14.00\">data 0.0000</text>\n<polyline fill=\"none\" stroke=\"black\" points=\"0,-735.5 82,-735.5 \"/>\n<text text-anchor=\"middle\" x=\"41\" y=\"-720.3\" font-family=\"Times,serif\" font-size=\"14.00\">grad 0.0000</text>\n</g>\n<!-- 134946317398272* -->\n<g id=\"node9\" class=\"node\">\n<title>134946317398272*</title>\n<ellipse fill=\"none\" stroke=\"black\" cx=\"141\" cy=\"-658\" rx=\"27\" ry=\"18\"/>\n<text text-anchor=\"middle\" x=\"141\" y=\"-654.3\" font-family=\"Times,serif\" font-size=\"14.00\">*</text>\n</g>\n<!-- 134947160160384&#45;&gt;134946317398272* -->\n<g id=\"edge7\" class=\"edge\">\n<title>134947160160384&#45;&gt;134946317398272*</title>\n<path fill=\"none\" stroke=\"black\" d=\"M79.66,-712.36C92.4,-701.28 106.17,-689.3 117.44,-679.5\"/>\n<polygon fill=\"black\" stroke=\"black\" points=\"119.89,-682 125.14,-672.8 115.3,-676.72 119.89,-682\"/>\n</g>\n<!-- 134946317393568 -->\n<g id=\"node4\" class=\"node\">\n<title>134946317393568</title>\n<polygon fill=\"none\" stroke=\"black\" points=\"100,-178.5 100,-247.5 182,-247.5 182,-178.5 100,-178.5\"/>\n<text text-anchor=\"middle\" x=\"141\" y=\"-232.3\" font-family=\"Times,serif\" font-size=\"14.00\">n</text>\n<polyline fill=\"none\" stroke=\"black\" points=\"100,-224.5 182,-224.5 \"/>\n<text text-anchor=\"middle\" x=\"141\" y=\"-209.3\" font-family=\"Times,serif\" font-size=\"14.00\">data 0.8814</text>\n<polyline fill=\"none\" stroke=\"black\" points=\"100,-201.5 182,-201.5 \"/>\n<text text-anchor=\"middle\" x=\"141\" y=\"-186.3\" font-family=\"Times,serif\" font-size=\"14.00\">grad 0.0000</text>\n</g>\n<!-- 134946317392272tanh -->\n<g id=\"node12\" class=\"node\">\n<title>134946317392272tanh</title>\n<ellipse fill=\"none\" stroke=\"black\" cx=\"141\" cy=\"-124\" rx=\"27\" ry=\"18\"/>\n<text text-anchor=\"middle\" x=\"141\" y=\"-120.3\" font-family=\"Times,serif\" font-size=\"14.00\">tanh</text>\n</g>\n<!-- 134946317393568&#45;&gt;134946317392272tanh -->\n<g id=\"edge12\" class=\"edge\">\n<title>134946317393568&#45;&gt;134946317392272tanh</title>\n<path fill=\"none\" stroke=\"black\" d=\"M141,-178.11C141,-169.62 141,-160.61 141,-152.48\"/>\n<polygon fill=\"black\" stroke=\"black\" points=\"144.5,-152.4 141,-142.4 137.5,-152.4 144.5,-152.4\"/>\n</g>\n<!-- 134946317393568+ -->\n<g id=\"node5\" class=\"node\">\n<title>134946317393568+</title>\n<ellipse fill=\"none\" stroke=\"black\" cx=\"141\" cy=\"-302\" rx=\"27\" ry=\"18\"/>\n<text text-anchor=\"middle\" x=\"141\" y=\"-298.3\" font-family=\"Times,serif\" font-size=\"14.00\">+</text>\n</g>\n<!-- 134946317393568+&#45;&gt;134946317393568 -->\n<g id=\"edge2\" class=\"edge\">\n<title>134946317393568+&#45;&gt;134946317393568</title>\n<path fill=\"none\" stroke=\"black\" d=\"M141,-283.81C141,-276.33 141,-267.18 141,-258\"/>\n<polygon fill=\"black\" stroke=\"black\" points=\"144.5,-257.71 141,-247.71 137.5,-257.71 144.5,-257.71\"/>\n</g>\n<!-- 134947160158368 -->\n<g id=\"node6\" class=\"node\">\n<title>134947160158368</title>\n<polygon fill=\"none\" stroke=\"black\" points=\"100,-712.5 100,-781.5 182,-781.5 182,-712.5 100,-712.5\"/>\n<text text-anchor=\"middle\" x=\"141\" y=\"-766.3\" font-family=\"Times,serif\" font-size=\"14.00\">w2</text>\n<polyline fill=\"none\" stroke=\"black\" points=\"100,-758.5 182,-758.5 \"/>\n<text text-anchor=\"middle\" x=\"141\" y=\"-743.3\" font-family=\"Times,serif\" font-size=\"14.00\">data 1.0000</text>\n<polyline fill=\"none\" stroke=\"black\" points=\"100,-735.5 182,-735.5 \"/>\n<text text-anchor=\"middle\" x=\"141\" y=\"-720.3\" font-family=\"Times,serif\" font-size=\"14.00\">grad 0.0000</text>\n</g>\n<!-- 134947160158368&#45;&gt;134946317398272* -->\n<g id=\"edge8\" class=\"edge\">\n<title>134947160158368&#45;&gt;134946317398272*</title>\n<path fill=\"none\" stroke=\"black\" d=\"M141,-712.11C141,-703.62 141,-694.61 141,-686.48\"/>\n<polygon fill=\"black\" stroke=\"black\" points=\"144.5,-686.4 141,-676.4 137.5,-686.4 144.5,-686.4\"/>\n</g>\n<!-- 134947160161488 -->\n<g id=\"node7\" class=\"node\">\n<title>134947160161488</title>\n<polygon fill=\"none\" stroke=\"black\" points=\"49,-356.5 49,-425.5 131,-425.5 131,-356.5 49,-356.5\"/>\n<text text-anchor=\"middle\" x=\"90\" y=\"-410.3\" font-family=\"Times,serif\" font-size=\"14.00\">b</text>\n<polyline fill=\"none\" stroke=\"black\" points=\"49,-402.5 131,-402.5 \"/>\n<text text-anchor=\"middle\" x=\"90\" y=\"-387.3\" font-family=\"Times,serif\" font-size=\"14.00\">data 6.8814</text>\n<polyline fill=\"none\" stroke=\"black\" points=\"49,-379.5 131,-379.5 \"/>\n<text text-anchor=\"middle\" x=\"90\" y=\"-364.3\" font-family=\"Times,serif\" font-size=\"14.00\">grad 0.0000</text>\n</g>\n<!-- 134947160161488&#45;&gt;134946317393568+ -->\n<g id=\"edge10\" class=\"edge\">\n<title>134947160161488&#45;&gt;134946317393568+</title>\n<path fill=\"none\" stroke=\"black\" d=\"M109.86,-356.11C115.43,-346.62 121.37,-336.49 126.55,-327.65\"/>\n<polygon fill=\"black\" stroke=\"black\" points=\"129.6,-329.38 131.63,-318.98 123.56,-325.84 129.6,-329.38\"/>\n</g>\n<!-- 134946317398272 -->\n<g id=\"node8\" class=\"node\">\n<title>134946317398272</title>\n<polygon fill=\"none\" stroke=\"black\" points=\"100,-534.5 100,-603.5 182,-603.5 182,-534.5 100,-534.5\"/>\n<text text-anchor=\"middle\" x=\"141\" y=\"-588.3\" font-family=\"Times,serif\" font-size=\"14.00\">x2w2</text>\n<polyline fill=\"none\" stroke=\"black\" points=\"100,-580.5 182,-580.5 \"/>\n<text text-anchor=\"middle\" x=\"141\" y=\"-565.3\" font-family=\"Times,serif\" font-size=\"14.00\">data 0.0000</text>\n<polyline fill=\"none\" stroke=\"black\" points=\"100,-557.5 182,-557.5 \"/>\n<text text-anchor=\"middle\" x=\"141\" y=\"-542.3\" font-family=\"Times,serif\" font-size=\"14.00\">grad 0.0000</text>\n</g>\n<!-- 134946317398272&#45;&gt;134946317392848+ -->\n<g id=\"edge6\" class=\"edge\">\n<title>134946317398272&#45;&gt;134946317392848+</title>\n<path fill=\"none\" stroke=\"black\" d=\"M160.86,-534.11C166.43,-524.62 172.37,-514.49 177.55,-505.65\"/>\n<polygon fill=\"black\" stroke=\"black\" points=\"180.6,-507.38 182.63,-496.98 174.56,-503.84 180.6,-507.38\"/>\n</g>\n<!-- 134946317398272*&#45;&gt;134946317398272 -->\n<g id=\"edge3\" class=\"edge\">\n<title>134946317398272*&#45;&gt;134946317398272</title>\n<path fill=\"none\" stroke=\"black\" d=\"M141,-639.81C141,-632.33 141,-623.18 141,-614\"/>\n<polygon fill=\"black\" stroke=\"black\" points=\"144.5,-613.71 141,-603.71 137.5,-613.71 144.5,-613.71\"/>\n</g>\n<!-- 134947160154384 -->\n<g id=\"node10\" class=\"node\">\n<title>134947160154384</title>\n<polygon fill=\"none\" stroke=\"black\" points=\"200.5,-712.5 200.5,-781.5 285.5,-781.5 285.5,-712.5 200.5,-712.5\"/>\n<text text-anchor=\"middle\" x=\"243\" y=\"-766.3\" font-family=\"Times,serif\" font-size=\"14.00\">w1</text>\n<polyline fill=\"none\" stroke=\"black\" points=\"200.5,-758.5 285.5,-758.5 \"/>\n<text text-anchor=\"middle\" x=\"243\" y=\"-743.3\" font-family=\"Times,serif\" font-size=\"14.00\">data &#45;3.0000</text>\n<polyline fill=\"none\" stroke=\"black\" points=\"200.5,-735.5 285.5,-735.5 \"/>\n<text text-anchor=\"middle\" x=\"243\" y=\"-720.3\" font-family=\"Times,serif\" font-size=\"14.00\">grad 0.0000</text>\n</g>\n<!-- 134947160154384&#45;&gt;134946317401632* -->\n<g id=\"edge13\" class=\"edge\">\n<title>134947160154384&#45;&gt;134946317401632*</title>\n<path fill=\"none\" stroke=\"black\" d=\"M243,-712.11C243,-703.62 243,-694.61 243,-686.48\"/>\n<polygon fill=\"black\" stroke=\"black\" points=\"246.5,-686.4 243,-676.4 239.5,-686.4 246.5,-686.4\"/>\n</g>\n<!-- 134946317392272 -->\n<g id=\"node11\" class=\"node\">\n<title>134946317392272</title>\n<polygon fill=\"none\" stroke=\"black\" points=\"100,-0.5 100,-69.5 182,-69.5 182,-0.5 100,-0.5\"/>\n<text text-anchor=\"middle\" x=\"141\" y=\"-54.3\" font-family=\"Times,serif\" font-size=\"14.00\">o</text>\n<polyline fill=\"none\" stroke=\"black\" points=\"100,-46.5 182,-46.5 \"/>\n<text text-anchor=\"middle\" x=\"141\" y=\"-31.3\" font-family=\"Times,serif\" font-size=\"14.00\">data 0.7071</text>\n<polyline fill=\"none\" stroke=\"black\" points=\"100,-23.5 182,-23.5 \"/>\n<text text-anchor=\"middle\" x=\"141\" y=\"-8.3\" font-family=\"Times,serif\" font-size=\"14.00\">grad 0.0000</text>\n</g>\n<!-- 134946317392272tanh&#45;&gt;134946317392272 -->\n<g id=\"edge4\" class=\"edge\">\n<title>134946317392272tanh&#45;&gt;134946317392272</title>\n<path fill=\"none\" stroke=\"black\" d=\"M141,-105.81C141,-98.33 141,-89.18 141,-80\"/>\n<polygon fill=\"black\" stroke=\"black\" points=\"144.5,-79.71 141,-69.71 137.5,-79.71 144.5,-79.71\"/>\n</g>\n<!-- 134947160157600 -->\n<g id=\"node13\" class=\"node\">\n<title>134947160157600</title>\n<polygon fill=\"none\" stroke=\"black\" points=\"304,-712.5 304,-781.5 386,-781.5 386,-712.5 304,-712.5\"/>\n<text text-anchor=\"middle\" x=\"345\" y=\"-766.3\" font-family=\"Times,serif\" font-size=\"14.00\">x1</text>\n<polyline fill=\"none\" stroke=\"black\" points=\"304,-758.5 386,-758.5 \"/>\n<text text-anchor=\"middle\" x=\"345\" y=\"-743.3\" font-family=\"Times,serif\" font-size=\"14.00\">data 2.0000</text>\n<polyline fill=\"none\" stroke=\"black\" points=\"304,-735.5 386,-735.5 \"/>\n<text text-anchor=\"middle\" x=\"345\" y=\"-720.3\" font-family=\"Times,serif\" font-size=\"14.00\">grad 0.0000</text>\n</g>\n<!-- 134947160157600&#45;&gt;134946317401632* -->\n<g id=\"edge11\" class=\"edge\">\n<title>134947160157600&#45;&gt;134946317401632*</title>\n<path fill=\"none\" stroke=\"black\" d=\"M305.56,-712.36C292.48,-701.21 278.33,-689.13 266.8,-679.3\"/>\n<polygon fill=\"black\" stroke=\"black\" points=\"268.8,-676.4 258.92,-672.58 264.25,-681.73 268.8,-676.4\"/>\n</g>\n<!-- 134946317392848 -->\n<g id=\"node14\" class=\"node\">\n<title>134946317392848</title>\n<polygon fill=\"none\" stroke=\"black\" points=\"149.5,-356.5 149.5,-425.5 234.5,-425.5 234.5,-356.5 149.5,-356.5\"/>\n<text text-anchor=\"middle\" x=\"192\" y=\"-410.3\" font-family=\"Times,serif\" font-size=\"14.00\">x1w1x2w2</text>\n<polyline fill=\"none\" stroke=\"black\" points=\"149.5,-402.5 234.5,-402.5 \"/>\n<text text-anchor=\"middle\" x=\"192\" y=\"-387.3\" font-family=\"Times,serif\" font-size=\"14.00\">data &#45;6.0000</text>\n<polyline fill=\"none\" stroke=\"black\" points=\"149.5,-379.5 234.5,-379.5 \"/>\n<text text-anchor=\"middle\" x=\"192\" y=\"-364.3\" font-family=\"Times,serif\" font-size=\"14.00\">grad 0.0000</text>\n</g>\n<!-- 134946317392848&#45;&gt;134946317393568+ -->\n<g id=\"edge9\" class=\"edge\">\n<title>134946317392848&#45;&gt;134946317393568+</title>\n<path fill=\"none\" stroke=\"black\" d=\"M172.14,-356.11C166.57,-346.62 160.63,-336.49 155.45,-327.65\"/>\n<polygon fill=\"black\" stroke=\"black\" points=\"158.44,-325.84 150.37,-318.98 152.4,-329.38 158.44,-325.84\"/>\n</g>\n<!-- 134946317392848+&#45;&gt;134946317392848 -->\n<g id=\"edge5\" class=\"edge\">\n<title>134946317392848+&#45;&gt;134946317392848</title>\n<path fill=\"none\" stroke=\"black\" d=\"M192,-461.81C192,-454.33 192,-445.18 192,-436\"/>\n<polygon fill=\"black\" stroke=\"black\" points=\"195.5,-435.71 192,-425.71 188.5,-435.71 195.5,-435.71\"/>\n</g>\n</g>\n</svg>\n",
            "text/plain": [
              "<graphviz.graphs.Digraph at 0x7abba34ffbb0>"
            ]
          },
          "metadata": {},
          "execution_count": 53
        }
      ]
    },
    {
      "cell_type": "code",
      "source": [
        "draw_dot(o)"
      ],
      "metadata": {
        "colab": {
          "base_uri": "https://localhost:8080/",
          "height": 1000
        },
        "id": "7CWj9UvtBUkb",
        "outputId": "e96967b5-b9f8-49c0-b7e9-72ba46651e71"
      },
      "execution_count": 55,
      "outputs": [
        {
          "output_type": "execute_result",
          "data": {
            "image/svg+xml": "<?xml version=\"1.0\" encoding=\"UTF-8\" standalone=\"no\"?>\n<!DOCTYPE svg PUBLIC \"-//W3C//DTD SVG 1.1//EN\"\n \"http://www.w3.org/Graphics/SVG/1.1/DTD/svg11.dtd\">\n<!-- Generated by graphviz version 2.43.0 (0)\n -->\n<!-- Title: %3 Pages: 1 -->\n<svg width=\"398pt\" height=\"790pt\"\n viewBox=\"0.00 0.00 398.00 790.00\" xmlns=\"http://www.w3.org/2000/svg\" xmlns:xlink=\"http://www.w3.org/1999/xlink\">\n<g id=\"graph0\" class=\"graph\" transform=\"scale(1 1) rotate(0) translate(4 786)\">\n<title>%3</title>\n<polygon fill=\"white\" stroke=\"transparent\" points=\"-4,4 -4,-786 394,-786 394,4 -4,4\"/>\n<!-- 134946317401632 -->\n<g id=\"node1\" class=\"node\">\n<title>134946317401632</title>\n<polygon fill=\"none\" stroke=\"black\" points=\"200.5,-534.5 200.5,-603.5 285.5,-603.5 285.5,-534.5 200.5,-534.5\"/>\n<text text-anchor=\"middle\" x=\"243\" y=\"-588.3\" font-family=\"Times,serif\" font-size=\"14.00\">x1w1</text>\n<polyline fill=\"none\" stroke=\"black\" points=\"200.5,-580.5 285.5,-580.5 \"/>\n<text text-anchor=\"middle\" x=\"243\" y=\"-565.3\" font-family=\"Times,serif\" font-size=\"14.00\">data &#45;6.0000</text>\n<polyline fill=\"none\" stroke=\"black\" points=\"200.5,-557.5 285.5,-557.5 \"/>\n<text text-anchor=\"middle\" x=\"243\" y=\"-542.3\" font-family=\"Times,serif\" font-size=\"14.00\">grad 0.5000</text>\n</g>\n<!-- 134946317392848+ -->\n<g id=\"node15\" class=\"node\">\n<title>134946317392848+</title>\n<ellipse fill=\"none\" stroke=\"black\" cx=\"192\" cy=\"-480\" rx=\"27\" ry=\"18\"/>\n<text text-anchor=\"middle\" x=\"192\" y=\"-476.3\" font-family=\"Times,serif\" font-size=\"14.00\">+</text>\n</g>\n<!-- 134946317401632&#45;&gt;134946317392848+ -->\n<g id=\"edge14\" class=\"edge\">\n<title>134946317401632&#45;&gt;134946317392848+</title>\n<path fill=\"none\" stroke=\"black\" d=\"M223.14,-534.11C217.57,-524.62 211.63,-514.49 206.45,-505.65\"/>\n<polygon fill=\"black\" stroke=\"black\" points=\"209.44,-503.84 201.37,-496.98 203.4,-507.38 209.44,-503.84\"/>\n</g>\n<!-- 134946317401632* -->\n<g id=\"node2\" class=\"node\">\n<title>134946317401632*</title>\n<ellipse fill=\"none\" stroke=\"black\" cx=\"243\" cy=\"-658\" rx=\"27\" ry=\"18\"/>\n<text text-anchor=\"middle\" x=\"243\" y=\"-654.3\" font-family=\"Times,serif\" font-size=\"14.00\">*</text>\n</g>\n<!-- 134946317401632*&#45;&gt;134946317401632 -->\n<g id=\"edge1\" class=\"edge\">\n<title>134946317401632*&#45;&gt;134946317401632</title>\n<path fill=\"none\" stroke=\"black\" d=\"M243,-639.81C243,-632.33 243,-623.18 243,-614\"/>\n<polygon fill=\"black\" stroke=\"black\" points=\"246.5,-613.71 243,-603.71 239.5,-613.71 246.5,-613.71\"/>\n</g>\n<!-- 134947160160384 -->\n<g id=\"node3\" class=\"node\">\n<title>134947160160384</title>\n<polygon fill=\"none\" stroke=\"black\" points=\"0,-712.5 0,-781.5 82,-781.5 82,-712.5 0,-712.5\"/>\n<text text-anchor=\"middle\" x=\"41\" y=\"-766.3\" font-family=\"Times,serif\" font-size=\"14.00\">x2</text>\n<polyline fill=\"none\" stroke=\"black\" points=\"0,-758.5 82,-758.5 \"/>\n<text text-anchor=\"middle\" x=\"41\" y=\"-743.3\" font-family=\"Times,serif\" font-size=\"14.00\">data 0.0000</text>\n<polyline fill=\"none\" stroke=\"black\" points=\"0,-735.5 82,-735.5 \"/>\n<text text-anchor=\"middle\" x=\"41\" y=\"-720.3\" font-family=\"Times,serif\" font-size=\"14.00\">grad 0.5000</text>\n</g>\n<!-- 134946317398272* -->\n<g id=\"node9\" class=\"node\">\n<title>134946317398272*</title>\n<ellipse fill=\"none\" stroke=\"black\" cx=\"141\" cy=\"-658\" rx=\"27\" ry=\"18\"/>\n<text text-anchor=\"middle\" x=\"141\" y=\"-654.3\" font-family=\"Times,serif\" font-size=\"14.00\">*</text>\n</g>\n<!-- 134947160160384&#45;&gt;134946317398272* -->\n<g id=\"edge7\" class=\"edge\">\n<title>134947160160384&#45;&gt;134946317398272*</title>\n<path fill=\"none\" stroke=\"black\" d=\"M79.66,-712.36C92.4,-701.28 106.17,-689.3 117.44,-679.5\"/>\n<polygon fill=\"black\" stroke=\"black\" points=\"119.89,-682 125.14,-672.8 115.3,-676.72 119.89,-682\"/>\n</g>\n<!-- 134946317393568 -->\n<g id=\"node4\" class=\"node\">\n<title>134946317393568</title>\n<polygon fill=\"none\" stroke=\"black\" points=\"100,-178.5 100,-247.5 182,-247.5 182,-178.5 100,-178.5\"/>\n<text text-anchor=\"middle\" x=\"141\" y=\"-232.3\" font-family=\"Times,serif\" font-size=\"14.00\">n</text>\n<polyline fill=\"none\" stroke=\"black\" points=\"100,-224.5 182,-224.5 \"/>\n<text text-anchor=\"middle\" x=\"141\" y=\"-209.3\" font-family=\"Times,serif\" font-size=\"14.00\">data 0.8814</text>\n<polyline fill=\"none\" stroke=\"black\" points=\"100,-201.5 182,-201.5 \"/>\n<text text-anchor=\"middle\" x=\"141\" y=\"-186.3\" font-family=\"Times,serif\" font-size=\"14.00\">grad 0.5000</text>\n</g>\n<!-- 134946317392272tanh -->\n<g id=\"node12\" class=\"node\">\n<title>134946317392272tanh</title>\n<ellipse fill=\"none\" stroke=\"black\" cx=\"141\" cy=\"-124\" rx=\"27\" ry=\"18\"/>\n<text text-anchor=\"middle\" x=\"141\" y=\"-120.3\" font-family=\"Times,serif\" font-size=\"14.00\">tanh</text>\n</g>\n<!-- 134946317393568&#45;&gt;134946317392272tanh -->\n<g id=\"edge12\" class=\"edge\">\n<title>134946317393568&#45;&gt;134946317392272tanh</title>\n<path fill=\"none\" stroke=\"black\" d=\"M141,-178.11C141,-169.62 141,-160.61 141,-152.48\"/>\n<polygon fill=\"black\" stroke=\"black\" points=\"144.5,-152.4 141,-142.4 137.5,-152.4 144.5,-152.4\"/>\n</g>\n<!-- 134946317393568+ -->\n<g id=\"node5\" class=\"node\">\n<title>134946317393568+</title>\n<ellipse fill=\"none\" stroke=\"black\" cx=\"141\" cy=\"-302\" rx=\"27\" ry=\"18\"/>\n<text text-anchor=\"middle\" x=\"141\" y=\"-298.3\" font-family=\"Times,serif\" font-size=\"14.00\">+</text>\n</g>\n<!-- 134946317393568+&#45;&gt;134946317393568 -->\n<g id=\"edge2\" class=\"edge\">\n<title>134946317393568+&#45;&gt;134946317393568</title>\n<path fill=\"none\" stroke=\"black\" d=\"M141,-283.81C141,-276.33 141,-267.18 141,-258\"/>\n<polygon fill=\"black\" stroke=\"black\" points=\"144.5,-257.71 141,-247.71 137.5,-257.71 144.5,-257.71\"/>\n</g>\n<!-- 134947160158368 -->\n<g id=\"node6\" class=\"node\">\n<title>134947160158368</title>\n<polygon fill=\"none\" stroke=\"black\" points=\"100,-712.5 100,-781.5 182,-781.5 182,-712.5 100,-712.5\"/>\n<text text-anchor=\"middle\" x=\"141\" y=\"-766.3\" font-family=\"Times,serif\" font-size=\"14.00\">w2</text>\n<polyline fill=\"none\" stroke=\"black\" points=\"100,-758.5 182,-758.5 \"/>\n<text text-anchor=\"middle\" x=\"141\" y=\"-743.3\" font-family=\"Times,serif\" font-size=\"14.00\">data 1.0000</text>\n<polyline fill=\"none\" stroke=\"black\" points=\"100,-735.5 182,-735.5 \"/>\n<text text-anchor=\"middle\" x=\"141\" y=\"-720.3\" font-family=\"Times,serif\" font-size=\"14.00\">grad 0.0000</text>\n</g>\n<!-- 134947160158368&#45;&gt;134946317398272* -->\n<g id=\"edge8\" class=\"edge\">\n<title>134947160158368&#45;&gt;134946317398272*</title>\n<path fill=\"none\" stroke=\"black\" d=\"M141,-712.11C141,-703.62 141,-694.61 141,-686.48\"/>\n<polygon fill=\"black\" stroke=\"black\" points=\"144.5,-686.4 141,-676.4 137.5,-686.4 144.5,-686.4\"/>\n</g>\n<!-- 134947160161488 -->\n<g id=\"node7\" class=\"node\">\n<title>134947160161488</title>\n<polygon fill=\"none\" stroke=\"black\" points=\"49,-356.5 49,-425.5 131,-425.5 131,-356.5 49,-356.5\"/>\n<text text-anchor=\"middle\" x=\"90\" y=\"-410.3\" font-family=\"Times,serif\" font-size=\"14.00\">b</text>\n<polyline fill=\"none\" stroke=\"black\" points=\"49,-402.5 131,-402.5 \"/>\n<text text-anchor=\"middle\" x=\"90\" y=\"-387.3\" font-family=\"Times,serif\" font-size=\"14.00\">data 6.8814</text>\n<polyline fill=\"none\" stroke=\"black\" points=\"49,-379.5 131,-379.5 \"/>\n<text text-anchor=\"middle\" x=\"90\" y=\"-364.3\" font-family=\"Times,serif\" font-size=\"14.00\">grad 0.5000</text>\n</g>\n<!-- 134947160161488&#45;&gt;134946317393568+ -->\n<g id=\"edge10\" class=\"edge\">\n<title>134947160161488&#45;&gt;134946317393568+</title>\n<path fill=\"none\" stroke=\"black\" d=\"M109.86,-356.11C115.43,-346.62 121.37,-336.49 126.55,-327.65\"/>\n<polygon fill=\"black\" stroke=\"black\" points=\"129.6,-329.38 131.63,-318.98 123.56,-325.84 129.6,-329.38\"/>\n</g>\n<!-- 134946317398272 -->\n<g id=\"node8\" class=\"node\">\n<title>134946317398272</title>\n<polygon fill=\"none\" stroke=\"black\" points=\"100,-534.5 100,-603.5 182,-603.5 182,-534.5 100,-534.5\"/>\n<text text-anchor=\"middle\" x=\"141\" y=\"-588.3\" font-family=\"Times,serif\" font-size=\"14.00\">x2w2</text>\n<polyline fill=\"none\" stroke=\"black\" points=\"100,-580.5 182,-580.5 \"/>\n<text text-anchor=\"middle\" x=\"141\" y=\"-565.3\" font-family=\"Times,serif\" font-size=\"14.00\">data 0.0000</text>\n<polyline fill=\"none\" stroke=\"black\" points=\"100,-557.5 182,-557.5 \"/>\n<text text-anchor=\"middle\" x=\"141\" y=\"-542.3\" font-family=\"Times,serif\" font-size=\"14.00\">grad 0.5000</text>\n</g>\n<!-- 134946317398272&#45;&gt;134946317392848+ -->\n<g id=\"edge6\" class=\"edge\">\n<title>134946317398272&#45;&gt;134946317392848+</title>\n<path fill=\"none\" stroke=\"black\" d=\"M160.86,-534.11C166.43,-524.62 172.37,-514.49 177.55,-505.65\"/>\n<polygon fill=\"black\" stroke=\"black\" points=\"180.6,-507.38 182.63,-496.98 174.56,-503.84 180.6,-507.38\"/>\n</g>\n<!-- 134946317398272*&#45;&gt;134946317398272 -->\n<g id=\"edge3\" class=\"edge\">\n<title>134946317398272*&#45;&gt;134946317398272</title>\n<path fill=\"none\" stroke=\"black\" d=\"M141,-639.81C141,-632.33 141,-623.18 141,-614\"/>\n<polygon fill=\"black\" stroke=\"black\" points=\"144.5,-613.71 141,-603.71 137.5,-613.71 144.5,-613.71\"/>\n</g>\n<!-- 134947160154384 -->\n<g id=\"node10\" class=\"node\">\n<title>134947160154384</title>\n<polygon fill=\"none\" stroke=\"black\" points=\"200.5,-712.5 200.5,-781.5 285.5,-781.5 285.5,-712.5 200.5,-712.5\"/>\n<text text-anchor=\"middle\" x=\"243\" y=\"-766.3\" font-family=\"Times,serif\" font-size=\"14.00\">w1</text>\n<polyline fill=\"none\" stroke=\"black\" points=\"200.5,-758.5 285.5,-758.5 \"/>\n<text text-anchor=\"middle\" x=\"243\" y=\"-743.3\" font-family=\"Times,serif\" font-size=\"14.00\">data &#45;3.0000</text>\n<polyline fill=\"none\" stroke=\"black\" points=\"200.5,-735.5 285.5,-735.5 \"/>\n<text text-anchor=\"middle\" x=\"243\" y=\"-720.3\" font-family=\"Times,serif\" font-size=\"14.00\">grad 1.0000</text>\n</g>\n<!-- 134947160154384&#45;&gt;134946317401632* -->\n<g id=\"edge13\" class=\"edge\">\n<title>134947160154384&#45;&gt;134946317401632*</title>\n<path fill=\"none\" stroke=\"black\" d=\"M243,-712.11C243,-703.62 243,-694.61 243,-686.48\"/>\n<polygon fill=\"black\" stroke=\"black\" points=\"246.5,-686.4 243,-676.4 239.5,-686.4 246.5,-686.4\"/>\n</g>\n<!-- 134946317392272 -->\n<g id=\"node11\" class=\"node\">\n<title>134946317392272</title>\n<polygon fill=\"none\" stroke=\"black\" points=\"100,-0.5 100,-69.5 182,-69.5 182,-0.5 100,-0.5\"/>\n<text text-anchor=\"middle\" x=\"141\" y=\"-54.3\" font-family=\"Times,serif\" font-size=\"14.00\">o</text>\n<polyline fill=\"none\" stroke=\"black\" points=\"100,-46.5 182,-46.5 \"/>\n<text text-anchor=\"middle\" x=\"141\" y=\"-31.3\" font-family=\"Times,serif\" font-size=\"14.00\">data 0.7071</text>\n<polyline fill=\"none\" stroke=\"black\" points=\"100,-23.5 182,-23.5 \"/>\n<text text-anchor=\"middle\" x=\"141\" y=\"-8.3\" font-family=\"Times,serif\" font-size=\"14.00\">grad 1.0000</text>\n</g>\n<!-- 134946317392272tanh&#45;&gt;134946317392272 -->\n<g id=\"edge4\" class=\"edge\">\n<title>134946317392272tanh&#45;&gt;134946317392272</title>\n<path fill=\"none\" stroke=\"black\" d=\"M141,-105.81C141,-98.33 141,-89.18 141,-80\"/>\n<polygon fill=\"black\" stroke=\"black\" points=\"144.5,-79.71 141,-69.71 137.5,-79.71 144.5,-79.71\"/>\n</g>\n<!-- 134947160157600 -->\n<g id=\"node13\" class=\"node\">\n<title>134947160157600</title>\n<polygon fill=\"none\" stroke=\"black\" points=\"304,-712.5 304,-781.5 390,-781.5 390,-712.5 304,-712.5\"/>\n<text text-anchor=\"middle\" x=\"347\" y=\"-766.3\" font-family=\"Times,serif\" font-size=\"14.00\">x1</text>\n<polyline fill=\"none\" stroke=\"black\" points=\"304,-758.5 390,-758.5 \"/>\n<text text-anchor=\"middle\" x=\"347\" y=\"-743.3\" font-family=\"Times,serif\" font-size=\"14.00\">data 2.0000</text>\n<polyline fill=\"none\" stroke=\"black\" points=\"304,-735.5 390,-735.5 \"/>\n<text text-anchor=\"middle\" x=\"347\" y=\"-720.3\" font-family=\"Times,serif\" font-size=\"14.00\">grad &#45;1.5000</text>\n</g>\n<!-- 134947160157600&#45;&gt;134946317401632* -->\n<g id=\"edge11\" class=\"edge\">\n<title>134947160157600&#45;&gt;134946317401632*</title>\n<path fill=\"none\" stroke=\"black\" d=\"M306.79,-712.36C293.32,-701.1 278.74,-688.9 266.92,-679.01\"/>\n<polygon fill=\"black\" stroke=\"black\" points=\"269.15,-676.31 259.23,-672.58 264.65,-681.68 269.15,-676.31\"/>\n</g>\n<!-- 134946317392848 -->\n<g id=\"node14\" class=\"node\">\n<title>134946317392848</title>\n<polygon fill=\"none\" stroke=\"black\" points=\"149.5,-356.5 149.5,-425.5 234.5,-425.5 234.5,-356.5 149.5,-356.5\"/>\n<text text-anchor=\"middle\" x=\"192\" y=\"-410.3\" font-family=\"Times,serif\" font-size=\"14.00\">x1w1x2w2</text>\n<polyline fill=\"none\" stroke=\"black\" points=\"149.5,-402.5 234.5,-402.5 \"/>\n<text text-anchor=\"middle\" x=\"192\" y=\"-387.3\" font-family=\"Times,serif\" font-size=\"14.00\">data &#45;6.0000</text>\n<polyline fill=\"none\" stroke=\"black\" points=\"149.5,-379.5 234.5,-379.5 \"/>\n<text text-anchor=\"middle\" x=\"192\" y=\"-364.3\" font-family=\"Times,serif\" font-size=\"14.00\">grad 0.5000</text>\n</g>\n<!-- 134946317392848&#45;&gt;134946317393568+ -->\n<g id=\"edge9\" class=\"edge\">\n<title>134946317392848&#45;&gt;134946317393568+</title>\n<path fill=\"none\" stroke=\"black\" d=\"M172.14,-356.11C166.57,-346.62 160.63,-336.49 155.45,-327.65\"/>\n<polygon fill=\"black\" stroke=\"black\" points=\"158.44,-325.84 150.37,-318.98 152.4,-329.38 158.44,-325.84\"/>\n</g>\n<!-- 134946317392848+&#45;&gt;134946317392848 -->\n<g id=\"edge5\" class=\"edge\">\n<title>134946317392848+&#45;&gt;134946317392848</title>\n<path fill=\"none\" stroke=\"black\" d=\"M192,-461.81C192,-454.33 192,-445.18 192,-436\"/>\n<polygon fill=\"black\" stroke=\"black\" points=\"195.5,-435.71 192,-425.71 188.5,-435.71 195.5,-435.71\"/>\n</g>\n</g>\n</svg>\n",
            "text/plain": [
              "<graphviz.graphs.Digraph at 0x7abba34fe6e0>"
            ]
          },
          "metadata": {},
          "execution_count": 55
        }
      ]
    },
    {
      "cell_type": "code",
      "source": [
        "o.grad=1.0"
      ],
      "metadata": {
        "id": "QjhFbUWxed91"
      },
      "execution_count": 29,
      "outputs": []
    },
    {
      "cell_type": "code",
      "source": [
        "o.backward()"
      ],
      "metadata": {
        "id": "sRM5yAPaA7xK"
      },
      "execution_count": 54,
      "outputs": []
    },
    {
      "cell_type": "code",
      "source": [
        "n._backward()"
      ],
      "metadata": {
        "id": "La9gyHfGemZt"
      },
      "execution_count": 32,
      "outputs": []
    },
    {
      "cell_type": "code",
      "source": [
        "x1w1x2w2._backward()"
      ],
      "metadata": {
        "id": "Up9VwT6nfACi"
      },
      "execution_count": 34,
      "outputs": []
    },
    {
      "cell_type": "code",
      "source": [
        "x1w1._backward()"
      ],
      "metadata": {
        "id": "g8Zw2XwefF2R"
      },
      "execution_count": 38,
      "outputs": []
    },
    {
      "cell_type": "code",
      "source": [
        "x2w2._backward()"
      ],
      "metadata": {
        "id": "HQLd3nopfMcq"
      },
      "execution_count": 40,
      "outputs": []
    },
    {
      "cell_type": "code",
      "source": [
        "#Para o backward propagation ir corretamente sem haver pulo, vamos fazer uma arvore\n",
        "o.grad = 1.0\n",
        "\n",
        "topo = []\n",
        "visited = set()\n",
        "def build_topo(v):\n",
        "  if v not in visited:\n",
        "    visited.add(v)\n",
        "    for child in v._prev:\n",
        "      build_topo(child)\n",
        "    topo.append(v)\n",
        "build_topo(o)\n",
        "\n",
        "for node in reversed(topo):\n",
        "  node._backward()"
      ],
      "metadata": {
        "id": "UY1y750YjBMs"
      },
      "execution_count": 46,
      "outputs": []
    },
    {
      "cell_type": "markdown",
      "source": [
        "# Derivada de n"
      ],
      "metadata": {
        "id": "0q4vwxFgCaoD"
      }
    },
    {
      "cell_type": "code",
      "source": [
        "# o = tanh(n)\n",
        "# do/dn = 1 - o ** 2\n",
        "# do/dn = 1 - o.data**2\n",
        "n.grad = 0.5"
      ],
      "metadata": {
        "id": "i80jT75SCBN-"
      },
      "execution_count": 13,
      "outputs": []
    },
    {
      "cell_type": "code",
      "source": [
        "1 - o.data**2"
      ],
      "metadata": {
        "colab": {
          "base_uri": "https://localhost:8080/"
        },
        "id": "4EpIqzj0B2Fi",
        "outputId": "5226098f-d297-4f13-e246-45571db8af5a"
      },
      "execution_count": 14,
      "outputs": [
        {
          "output_type": "execute_result",
          "data": {
            "text/plain": [
              "0.4999999999999999"
            ]
          },
          "metadata": {},
          "execution_count": 14
        }
      ]
    },
    {
      "cell_type": "markdown",
      "source": [
        "### Derivada de x1w1x2w2, b e x1w1 e x2w2\n",
        "\n",
        "> Nó positivo: sendo um sinal de + é apenas um distribuidos de gradiente, assim sendo, a derivada de n vai fluir para os pontos onde o nó é positivo.\n",
        "\n",
        "\n"
      ],
      "metadata": {
        "id": "SF8MyJHMCgNk"
      }
    },
    {
      "cell_type": "code",
      "source": [
        "#Como é um nó positivo a derivada de n flui para os dois pontos existentes nesse nó\n",
        "x1w1x2w2.grad = 0.5\n",
        "b.grad = 0.5"
      ],
      "metadata": {
        "id": "cr3Rsel2CaKC"
      },
      "execution_count": 15,
      "outputs": []
    },
    {
      "cell_type": "code",
      "source": [
        "#Como é um nó positivo a derivada de n flui para os dois pontos existentes nesse nó\n",
        "x1w1.grad = 0.5\n",
        "x2w2.grad = 0.5"
      ],
      "metadata": {
        "id": "Y_9gxuk-D1Y7"
      },
      "execution_count": 16,
      "outputs": []
    },
    {
      "cell_type": "markdown",
      "source": [
        "### Derivada de x2, w2, x1, w1\n",
        "\n",
        "> Utilizando a regra de cadeira local, para descobrimo o x = w * derivada de xw e a dereivada de w = x * a derivada de xw\n",
        "\n"
      ],
      "metadata": {
        "id": "rWpv3BReDcPC"
      }
    },
    {
      "cell_type": "code",
      "source": [
        "x2.grad= w2.data * x2w2.grad\n",
        "w2.grad = x2.data * x2w2.grad"
      ],
      "metadata": {
        "id": "OGX--U-6FJS-"
      },
      "execution_count": 17,
      "outputs": []
    },
    {
      "cell_type": "code",
      "source": [
        "# o = tanh(n)\n",
        "# do/dn = 1 - o ** 2"
      ],
      "metadata": {
        "id": "2bUQV4WABWWd"
      },
      "execution_count": null,
      "outputs": []
    },
    {
      "cell_type": "code",
      "source": [],
      "metadata": {
        "id": "wrw3iksnch6j"
      },
      "execution_count": null,
      "outputs": []
    }
  ]
}